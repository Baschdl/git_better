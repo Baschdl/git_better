{
 "cells": [
  {
   "cell_type": "code",
   "execution_count": null,
   "metadata": {
    "collapsed": true
   },
   "outputs": [],
   "source": [
    "from process import *"
   ]
  },
  {
   "cell_type": "code",
   "execution_count": null,
   "metadata": {
    "collapsed": false
   },
   "outputs": [
    {
     "name": "stderr",
     "output_type": "stream",
     "text": [
      "\r",
      "  0%|          | 0/124 [00:00<?, ?it/s]"
     ]
    },
    {
     "name": "stdout",
     "output_type": "stream",
     "text": [
      "Loading features for 124 repositories\n"
     ]
    },
    {
     "name": "stderr",
     "output_type": "stream",
     "text": [
      "Exception in thread Thread-45:\n",
      "Traceback (most recent call last):\n",
      "  File \"/usr/lib/python2.7/threading.py\", line 810, in __bootstrap_inner\n",
      "    self.run()\n",
      "  File \"/usr/lib/python2.7/threading.py\", line 763, in run\n",
      "    self.__target(*self.__args, **self.__kwargs)\n",
      "  File \"feature_aggregation.py\", line 27, in aggregate_features\n",
      "    shared_data_frame.set_value(index, col, new_data_frame[index][col])\n",
      "  File \"/home/madness/Documents/Projects/git_better/venv/local/lib/python2.7/site-packages/pandas/core/frame.py\", line 2057, in __getitem__\n",
      "    return self._getitem_column(key)\n",
      "  File \"/home/madness/Documents/Projects/git_better/venv/local/lib/python2.7/site-packages/pandas/core/frame.py\", line 2064, in _getitem_column\n",
      "    return self._get_item_cache(key)\n",
      "  File \"/home/madness/Documents/Projects/git_better/venv/local/lib/python2.7/site-packages/pandas/core/generic.py\", line 1386, in _get_item_cache\n",
      "    values = self._data.get(item)\n",
      "  File \"/home/madness/Documents/Projects/git_better/venv/local/lib/python2.7/site-packages/pandas/core/internals.py\", line 3520, in get\n",
      "    loc = self.items.get_loc(item)\n",
      "  File \"/home/madness/Documents/Projects/git_better/venv/local/lib/python2.7/site-packages/pandas/indexes/base.py\", line 2106, in get_loc\n",
      "    return self._engine.get_loc(self._maybe_cast_indexer(key))\n",
      "  File \"pandas/index.pyx\", line 139, in pandas.index.IndexEngine.get_loc (pandas/index.c:4160)\n",
      "  File \"pandas/index.pyx\", line 161, in pandas.index.IndexEngine.get_loc (pandas/index.c:4024)\n",
      "  File \"pandas/src/hashtable_class_helper.pxi\", line 732, in pandas.hashtable.PyObjectHashTable.get_item (pandas/hashtable.c:13161)\n",
      "  File \"pandas/src/hashtable_class_helper.pxi\", line 740, in pandas.hashtable.PyObjectHashTable.get_item (pandas/hashtable.c:13115)\n",
      "KeyError: 41\n",
      "\n"
     ]
    }
   ],
   "source": [
    "data_frame = process_data()"
   ]
  },
  {
   "cell_type": "code",
   "execution_count": null,
   "metadata": {
    "collapsed": false,
    "scrolled": false
   },
   "outputs": [],
   "source": [
    "data_frame"
   ]
  },
  {
   "cell_type": "code",
   "execution_count": null,
   "metadata": {
    "collapsed": false
   },
   "outputs": [],
   "source": [
    "data_frame.loc[20]"
   ]
  },
  {
   "cell_type": "code",
   "execution_count": null,
   "metadata": {
    "collapsed": true
   },
   "outputs": [],
   "source": []
  }
 ],
 "metadata": {
  "kernelspec": {
   "display_name": "Python 2",
   "language": "python",
   "name": "python2"
  },
  "language_info": {
   "codemirror_mode": {
    "name": "ipython",
    "version": 2
   },
   "file_extension": ".py",
   "mimetype": "text/x-python",
   "name": "python",
   "nbconvert_exporter": "python",
   "pygments_lexer": "ipython2",
   "version": "2.7.10"
  }
 },
 "nbformat": 4,
 "nbformat_minor": 1
}
