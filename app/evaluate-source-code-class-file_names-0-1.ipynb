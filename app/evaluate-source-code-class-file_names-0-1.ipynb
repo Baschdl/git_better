{
 "cells": [
  {
   "cell_type": "code",
   "execution_count": 1,
   "metadata": {
    "collapsed": false
   },
   "outputs": [
    {
     "name": "stderr",
     "output_type": "stream",
     "text": [
      "/Users/Sebastian/git/ml/git_better/venv/lib/python2.7/site-packages/sklearn/base.py:315: UserWarning: Trying to unpickle estimator CountVectorizer from version 0.18.1 when using version 0.18. This might lead to breaking code or invalid results. Use at your own risk.\n",
      "  UserWarning)\n",
      "/Users/Sebastian/git/ml/git_better/venv/lib/python2.7/site-packages/sklearn/base.py:315: UserWarning: Trying to unpickle estimator TfidfTransformer from version 0.18.1 when using version 0.18. This might lead to breaking code or invalid results. Use at your own risk.\n",
      "  UserWarning)\n",
      "/Users/Sebastian/git/ml/git_better/venv/lib/python2.7/site-packages/sklearn/base.py:315: UserWarning: Trying to unpickle estimator LinearSVC from version 0.18.1 when using version 0.18. This might lead to breaking code or invalid results. Use at your own risk.\n",
      "  UserWarning)\n",
      "/Users/Sebastian/git/ml/git_better/venv/lib/python2.7/site-packages/sklearn/base.py:315: UserWarning: Trying to unpickle estimator Pipeline from version 0.18.1 when using version 0.18. This might lead to breaking code or invalid results. Use at your own risk.\n",
      "  UserWarning)\n"
     ]
    }
   ],
   "source": [
    "from sklearn.externals import joblib\n",
    "import training\n",
    "pipl = joblib.load('../source-code-pipeline-all-lsvc-unigrams-0-1-file_names.pkl')"
   ]
  },
  {
   "cell_type": "code",
   "execution_count": 2,
   "metadata": {
    "collapsed": false
   },
   "outputs": [],
   "source": [
    "from evaluation import get_cleaned_processed_df\n",
    "import pandas as pd\n",
    "from sklearn.preprocessing import LabelEncoder\n",
    "\n",
    "df = pd.DataFrame.from_csv('../data/processed_data.csv')\n",
    "labels = df.pop(\"label\")\n",
    "le = LabelEncoder().fit(labels)\n",
    "classes = le.classes_"
   ]
  },
  {
   "cell_type": "code",
   "execution_count": 3,
   "metadata": {
    "collapsed": false
   },
   "outputs": [
    {
     "name": "stdout",
     "output_type": "stream",
     "text": [
      "DATA\n",
      " Positive Words          Negative Words\n",
      "1.2547          cpiai    -0.0819            pur\n",
      "1.2547      nationwid    -0.0818            edm\n",
      "1.2547           aat1    -0.0814            fmi\n",
      "1.2547          cofog    -0.0805 concatenatestr\n",
      "1.2547         nasdaq    -0.0800           32px\n",
      "1.2547            h15    -0.0799            idr\n",
      "1.2547     flows_data    -0.0787  code_of_merit\n",
      "1.2547   glaciers_fig    -0.0787logo_serverless\n",
      "1.2547world_universities_and_domain    -0.0787problem_definit\n",
      "1.2547         extant    -0.0787         rackup\n",
      "1.2547market_quote_report    -0.0787      check_url\n",
      "1.2547           nyse    -0.0787      tinkerpop\n",
      "1.2547       constitu    -0.0787          lagda\n",
      "1.2547            nus    -0.0787        cheffil\n",
      "1.2547         fossil    -0.0787      build_toc\n",
      "1.2547         commod    -0.0787            ama\n",
      "1.2547       citl_v19    -0.0787           paid\n",
      "1.2547            10i    -0.0787        laravel\n",
      "1.2547        euribor    -0.0787test_example_homework\n",
      "1.2547            vix    -0.0787  pull_r_packag\n",
      "--------------------\n",
      "DEV\n",
      " Positive Words          Negative Words\n",
      "1.2182            pur    -0.1705            edm\n",
      "1.1884            idr    -0.1695            fmi\n",
      "1.1695         rackup    -0.1677 concatenatestr\n",
      "1.1695            zed    -0.1666           32px\n",
      "1.1305            lli    -0.1639          cpiai\n",
      "1.1285             kt    -0.1639         commod\n",
      "1.0939           golo    -0.1639        laravel\n",
      "1.0544         gutter    -0.1639aquarium_problem\n",
      "0.9824         amberc    -0.1639           aat1\n",
      "0.8996        codebox    -0.1639      athabasca\n",
      "0.8865          scrbl    -0.1639conwaysgameoflif\n",
      "0.8771           cfxx    -0.1639           mpwa\n",
      "0.8771    tm_properti    -0.1639   create_dummi\n",
      "0.8771            lsc    -0.1639            jag\n",
      "0.8771         prerol    -0.1639        shiller\n",
      "0.8771      hsbencher    -0.1639      build_toc\n",
      "0.8771jenkins_runbench    -0.1639        cheffil\n",
      "0.8534          elevr    -0.1639            nus\n",
      "0.8159         appbar    -0.1639        c99loop\n",
      "0.8159        flipbox    -0.1639        starifi\n",
      "--------------------\n",
      "DOCS\n",
      " Positive Words          Negative Words\n",
      "0.9968           32px    -0.3679            pur\n",
      "0.9802        awepcss    -0.3674            edm\n",
      "0.9802        starifi    -0.3653            fmi\n",
      "0.9802      _fontello    -0.3614 concatenatestr\n",
      "0.9802       launchag    -0.3589            idr\n",
      "0.9802       toolbelt    -0.3532           aat1\n",
      "0.9802   create_dummi    -0.3532         nasdaq\n",
      "0.9802           paid    -0.3532        c99loop\n",
      "0.9802    readme_spec    -0.3532problem_definit\n",
      "0.9802  pull_r_packag    -0.3532      nationwid\n",
      "0.9802         bots3d    -0.3532   glaciers_fig\n",
      "0.9802           foss    -0.3532joinlistbufeditor\n",
      "0.9802    kata_guruma    -0.3532conwaysgameoflif\n",
      "0.9802      checklink    -0.3532            nus\n",
      "0.9802        laravel    -0.3532         s2hp_2\n",
      "0.9802  code_of_merit    -0.3532            10i\n",
      "0.9802     dropwizard    -0.3532            zed\n",
      "0.9802           mpwa    -0.3532         commod\n",
      "0.9802            zwj    -0.3532test_example_homework\n",
      "0.9802   further_read    -0.3532  ml_flow_chart\n",
      "--------------------\n",
      "EDU\n",
      " Positive Words          Negative Words\n",
      "1.2139            edm    -0.1735            pur\n",
      "1.1668imagesearchclass    -0.1723            fmi\n",
      "1.1668            jag    -0.1704 concatenatestr\n",
      "1.1668          lagda    -0.1694           32px\n",
      "1.1668      whycython    -0.1692            idr\n",
      "1.1668        cheffil    -0.1665 cpi2datapackag\n",
      "1.1668        c99loop    -0.1665        euribor\n",
      "1.1668  ml_flow_chart    -0.1665           aat1\n",
      "1.1668        cth_rsa    -0.1665      build_toc\n",
      "1.1054        edx_not    -0.1665       citl_v19\n",
      "1.0070     serialport    -0.1665            ama\n",
      "1.0001       nnvisual    -0.1665    kata_guruma\n",
      "0.9131     helloprint    -0.1665conwaysgameoflif\n",
      "0.8751bapscampgeometrynot    -0.1665         bots3d\n",
      "0.8751problem_solving_techniqu    -0.1665           nyse\n",
      "0.8751         _mobil    -0.1665  homeworkseven\n",
      "0.8751           apxl    -0.1665         s2hp_2\n",
      "0.8751        realiti    -0.1665      checklink\n",
      "0.8751        ubicomp    -0.1665      athabasca\n",
      "0.8751      afternoon    -0.1665        starifi\n",
      "--------------------\n",
      "HW\n",
      " Positive Words          Negative Words\n",
      "1.2498            fmi    -0.1304            pur\n",
      "1.2363 concatenatestr    -0.1303            edm\n",
      "1.2081conwaysgameoflif    -0.1273           32px\n",
      "1.2081     casetilamr    -0.1272            idr\n",
      "1.2081test_example_homework    -0.1252       launchag\n",
      "1.2081      athabasca    -0.1252    readme_spec\n",
      "1.2081aquarium_problem    -0.1252awesome_vue_with_repo_info\n",
      "1.2081         s2hp_2    -0.1252            vix\n",
      "1.2081           bkgd    -0.1252         rackup\n",
      "1.2081  homeworkseven    -0.1252            nus\n",
      "1.2081problem_definit    -0.1252            h15\n",
      "1.2081joinlistbufeditor    -0.1252      tinkerpop\n",
      "1.2081statisticsviewcontrol    -0.1252         extant\n",
      "1.1532   shoppinglist    -0.1252        c99loop\n",
      "1.1445       specdata    -0.1252logo_serverless\n",
      "1.0355        fifteen    -0.1252        euribor\n",
      "1.0068           hw2b    -0.1252   further_read\n",
      "0.9872   jslibrarymap    -0.1252  code_of_merit\n",
      "0.9692        stat579    -0.1252         fossil\n",
      "0.9455        mhs3234    -0.1252    kata_guruma\n",
      "--------------------\n",
      "WEB\n",
      " Positive Words          Negative Words\n",
      "0.2659     actionshot    -0.4656            pur\n",
      "0.2659       albertin    -0.4650            edm\n",
      "0.2659     elbowpatch    -0.4624            fmi\n",
      "0.2659        grafitt    -0.4574 concatenatestr\n",
      "0.2659        moodjam    -0.4545           32px\n",
      "0.2659         myself    -0.4542            idr\n",
      "0.2659            phd    -0.4470          cofog\n",
      "0.2659          thesi    -0.4470    readme_spec\n",
      "0.1751           sec3    -0.4470  homeworkseven\n",
      "0.1545      25_button    -0.4470      checklink\n",
      "0.0309        learnin    -0.4470            zwj\n",
      "0.0309       sec1_tre    -0.4470         extant\n",
      "0.0206       bargraph    -0.4470     dropwizard\n",
      "0.0206            blk    -0.4470   glaciers_fig\n",
      "0.0206       crapplet    -0.4470      nationwid\n",
      "0.0206     graphgraph    -0.4470       citl_v19\n",
      "0.0206       livehtml    -0.4470market_quote_report\n",
      "0.0206      paperclip    -0.4470         s2hp_2\n",
      "0.0206        paulbot    -0.4470        laravel\n",
      "0.0206    paulboticon    -0.4470           nyse\n",
      "--------------------\n"
     ]
    }
   ],
   "source": [
    "from operator import itemgetter\n",
    "\n",
    "vect = pipl.named_steps[\"vect\"]\n",
    "clf = pipl.named_steps[\"clf\"]\n",
    "tvec = clf.coef_\n",
    "output = []\n",
    "for i in range(len(tvec)):\n",
    "    output.append(classes[i])\n",
    "    coefs = sorted(zip(tvec[i], vect.get_feature_names()), key=itemgetter(0), reverse=True)\n",
    "    n = 20\n",
    "    topn = zip(coefs[:n], coefs[:-(n+1):-1])\n",
    "    output.append(\"{:>15}    {: >20}\".format(\"Positive Words\", \"Negative Words\"))\n",
    "    for (cp, fnp), (cn, fnn) in topn:\n",
    "        output.append(u\"{:0.4f}{: >15}    {:0.4f}{: >15}\".format(\n",
    "            cp, fnp, cn, fnn\n",
    "            )\n",
    "    )\n",
    "    output.append(\"--------------------\")\n",
    "print \"\\n\".join(output)"
   ]
  },
  {
   "cell_type": "code",
   "execution_count": 4,
   "metadata": {
    "collapsed": false
   },
   "outputs": [
    {
     "data": {
      "text/plain": [
       "563856"
      ]
     },
     "execution_count": 4,
     "metadata": {},
     "output_type": "execute_result"
    }
   ],
   "source": [
    "len(pipl.named_steps['vect'].vocabulary_)"
   ]
  },
  {
   "cell_type": "code",
   "execution_count": null,
   "metadata": {
    "collapsed": true
   },
   "outputs": [],
   "source": []
  }
 ],
 "metadata": {
  "anaconda-cloud": {},
  "kernelspec": {
   "display_name": "Python 2",
   "language": "python",
   "name": "python2"
  },
  "language_info": {
   "codemirror_mode": {
    "name": "ipython",
    "version": 2
   },
   "file_extension": ".py",
   "mimetype": "text/x-python",
   "name": "python",
   "nbconvert_exporter": "python",
   "pygments_lexer": "ipython2",
   "version": "2.7.10"
  }
 },
 "nbformat": 4,
 "nbformat_minor": 1
}
