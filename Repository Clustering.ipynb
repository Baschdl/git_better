{
 "cells": [
  {
   "cell_type": "code",
   "execution_count": 1,
   "metadata": {
    "collapsed": true
   },
   "outputs": [],
   "source": [
    "from process import *"
   ]
  },
  {
   "cell_type": "code",
   "execution_count": 2,
   "metadata": {
    "collapsed": false
   },
   "outputs": [
    {
     "name": "stderr",
     "output_type": "stream",
     "text": [
      "\r",
      "  0%|          | 0/2 [00:00<?, ?it/s]"
     ]
    },
    {
     "name": "stdout",
     "output_type": "stream",
     "text": [
      "Loading features for 2 repositories\n"
     ]
    },
    {
     "name": "stderr",
     "output_type": "stream",
     "text": [
      "100%|██████████| 2/2 [00:04<00:00,  2.03s/it]\n"
     ]
    }
   ],
   "source": [
    "github_client = load_github_client()\n",
    "data_frame = load_training_data()\n",
    "data_frame = clean_data(data_frame)\n",
    "data_frame = aggregate_features(github_client, data_frame)"
   ]
  },
  {
   "cell_type": "code",
   "execution_count": 3,
   "metadata": {
    "collapsed": false
   },
   "outputs": [
    {
     "data": {
      "text/html": [
       "<div>\n",
       "<table border=\"1\" class=\"dataframe\">\n",
       "  <thead>\n",
       "    <tr style=\"text-align: right;\">\n",
       "      <th></th>\n",
       "      <th>repository</th>\n",
       "      <th>label</th>\n",
       "      <th>watchers_count</th>\n",
       "      <th>forks_count</th>\n",
       "      <th>open_issues_count</th>\n",
       "      <th>stargazers_count</th>\n",
       "      <th>description</th>\n",
       "      <th>readme</th>\n",
       "      <th>LANGUAGE_JavaScript</th>\n",
       "      <th>LANGUAGE_Ruby</th>\n",
       "      <th>LANGUAGE_Groovy</th>\n",
       "      <th>LANGUAGE_Shell</th>\n",
       "      <th>LANGUAGE_Java</th>\n",
       "      <th>LANGUAGE_FreeMarker</th>\n",
       "      <th>LANGUAGE_XSLT</th>\n",
       "      <th>LANGUAGE_SQLPL</th>\n",
       "      <th>LANGUAGE_Smarty</th>\n",
       "      <th>LANGUAGE_Batchfile</th>\n",
       "      <th>LANGUAGE_HTML</th>\n",
       "      <th>LANGUAGE_CSS</th>\n",
       "    </tr>\n",
       "  </thead>\n",
       "  <tbody>\n",
       "    <tr>\n",
       "      <th>0</th>\n",
       "      <td>briantemple/homeworkr</td>\n",
       "      <td>DEV</td>\n",
       "      <td>6.0</td>\n",
       "      <td>2.0</td>\n",
       "      <td>0.0</td>\n",
       "      <td>6.0</td>\n",
       "      <td>A simple rails app to handle homework assignme...</td>\n",
       "      <td>== Homeworkr\\n\\nHomeworkr is a simple rails ap...</td>\n",
       "      <td>0.114283</td>\n",
       "      <td>0.885717</td>\n",
       "      <td>NaN</td>\n",
       "      <td>NaN</td>\n",
       "      <td>NaN</td>\n",
       "      <td>NaN</td>\n",
       "      <td>NaN</td>\n",
       "      <td>NaN</td>\n",
       "      <td>NaN</td>\n",
       "      <td>NaN</td>\n",
       "      <td>NaN</td>\n",
       "      <td>NaN</td>\n",
       "    </tr>\n",
       "    <tr>\n",
       "      <th>1</th>\n",
       "      <td>spring-projects/spring-boot</td>\n",
       "      <td>DEV</td>\n",
       "      <td>7959.0</td>\n",
       "      <td>7731.0</td>\n",
       "      <td>624.0</td>\n",
       "      <td>7959.0</td>\n",
       "      <td>Spring Boot</td>\n",
       "      <td>= Spring Boot image:https://build.spring.io/pl...</td>\n",
       "      <td>0.003744</td>\n",
       "      <td>0.000129</td>\n",
       "      <td>0.004704</td>\n",
       "      <td>0.002125</td>\n",
       "      <td>0.970811</td>\n",
       "      <td>0.000211</td>\n",
       "      <td>0.003379</td>\n",
       "      <td>0.00597</td>\n",
       "      <td>0.000325</td>\n",
       "      <td>0.000689</td>\n",
       "      <td>0.007341</td>\n",
       "      <td>0.000572</td>\n",
       "    </tr>\n",
       "  </tbody>\n",
       "</table>\n",
       "</div>"
      ],
      "text/plain": [
       "                    repository label  watchers_count  forks_count  \\\n",
       "0        briantemple/homeworkr   DEV             6.0          2.0   \n",
       "1  spring-projects/spring-boot   DEV          7959.0       7731.0   \n",
       "\n",
       "   open_issues_count  stargazers_count  \\\n",
       "0                0.0               6.0   \n",
       "1              624.0            7959.0   \n",
       "\n",
       "                                         description  \\\n",
       "0  A simple rails app to handle homework assignme...   \n",
       "1                                        Spring Boot   \n",
       "\n",
       "                                              readme  LANGUAGE_JavaScript  \\\n",
       "0  == Homeworkr\\n\\nHomeworkr is a simple rails ap...             0.114283   \n",
       "1  = Spring Boot image:https://build.spring.io/pl...             0.003744   \n",
       "\n",
       "   LANGUAGE_Ruby  LANGUAGE_Groovy  LANGUAGE_Shell  LANGUAGE_Java  \\\n",
       "0       0.885717              NaN             NaN            NaN   \n",
       "1       0.000129         0.004704        0.002125       0.970811   \n",
       "\n",
       "   LANGUAGE_FreeMarker  LANGUAGE_XSLT  LANGUAGE_SQLPL  LANGUAGE_Smarty  \\\n",
       "0                  NaN            NaN             NaN              NaN   \n",
       "1             0.000211       0.003379         0.00597         0.000325   \n",
       "\n",
       "   LANGUAGE_Batchfile  LANGUAGE_HTML  LANGUAGE_CSS  \n",
       "0                 NaN            NaN           NaN  \n",
       "1            0.000689       0.007341      0.000572  "
      ]
     },
     "execution_count": 3,
     "metadata": {},
     "output_type": "execute_result"
    }
   ],
   "source": [
    "data_frame.head()"
   ]
  },
  {
   "cell_type": "code",
   "execution_count": null,
   "metadata": {
    "collapsed": true
   },
   "outputs": [],
   "source": []
  }
 ],
 "metadata": {
  "kernelspec": {
   "display_name": "Python 2",
   "language": "python",
   "name": "python2"
  },
  "language_info": {
   "codemirror_mode": {
    "name": "ipython",
    "version": 2
   },
   "file_extension": ".py",
   "mimetype": "text/x-python",
   "name": "python",
   "nbconvert_exporter": "python",
   "pygments_lexer": "ipython2",
   "version": "2.7.10"
  }
 },
 "nbformat": 4,
 "nbformat_minor": 1
}
