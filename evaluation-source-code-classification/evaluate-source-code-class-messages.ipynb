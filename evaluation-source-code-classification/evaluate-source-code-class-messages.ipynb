{
 "cells": [
  {
   "cell_type": "code",
   "execution_count": 2,
   "metadata": {
    "collapsed": false
   },
   "outputs": [],
   "source": [
    "from sklearn.externals import joblib\n",
    "import training\n",
    "pipl = joblib.load('../source-code-pipeline-all-lsvc-unigrams-0_1-0_9-messages.pkl')"
   ]
  },
  {
   "cell_type": "code",
   "execution_count": 3,
   "metadata": {
    "collapsed": false
   },
   "outputs": [],
   "source": [
    "from evaluation import get_cleaned_processed_df\n",
    "import pandas as pd\n",
    "from sklearn.preprocessing import LabelEncoder\n",
    "\n",
    "df = pd.DataFrame.from_csv('../data/processed_data.csv')\n",
    "labels = df.pop(\"label\")\n",
    "le = LabelEncoder().fit(labels)\n",
    "classes = le.classes_"
   ]
  },
  {
   "cell_type": "code",
   "execution_count": 4,
   "metadata": {
    "collapsed": false
   },
   "outputs": [
    {
     "name": "stdout",
     "output_type": "stream",
     "text": [
      "DATA\n",
      " Positive Words          Negative Words\n",
      "6.3275           data    -0.9805            add\n",
      "4.8814           json    -0.8676           test\n",
      "3.1334         script    -0.8634           link\n",
      "2.9542            csv    -0.7580           merg\n",
      "1.4706          field    -0.7288             md\n",
      "1.2031          readi    -0.6596             ad\n",
      "1.0819        process    -0.6568             on\n",
      "1.0631          readm    -0.6063          solut\n",
      "1.0128         licens    -0.5887         branch\n",
      "0.9766          chang    -0.5734           post\n",
      "0.9483          sourc    -0.5626           page\n",
      "0.8778             py    -0.5615         github\n",
      "0.8193           name    -0.5497            com\n",
      "0.8079             to    -0.5345          slide\n",
      "0.8021           file    -0.4961         exampl\n",
      "0.7784           plus    -0.4944           site\n",
      "0.7185           misc    -0.4832            use\n",
      "0.7065          month    -0.4739           html\n",
      "0.6837            all    -0.4679            fix\n",
      "0.6297            and    -0.4480         assign\n",
      "--------------------\n",
      "DEV\n",
      " Positive Words          Negative Words\n",
      "1.7923           when    -3.4524            add\n",
      "1.4852            use    -2.8424             ad\n",
      "1.3744             id    -2.7999          updat\n",
      "1.3568             in    -2.2571           link\n",
      "1.2274           test    -1.7823           data\n",
      "1.1795            the    -1.6006           page\n",
      "1.1672         option    -1.3643           post\n",
      "1.1310            git    -1.3029          solut\n",
      "1.1033        support    -1.2225          chang\n",
      "1.0973             if    -1.2008             md\n",
      "1.0584             is    -1.1761         github\n",
      "0.9975            fix    -1.1358          slide\n",
      "0.9391             v0    -1.1135         commit\n",
      "0.9379           this    -1.0996         master\n",
      "0.9300           that    -1.0619          readm\n",
      "0.8955         compil    -1.0045        section\n",
      "0.8906           type    -0.9987           typo\n",
      "0.8627          error    -0.9902          initi\n",
      "0.8552           into    -0.9440           from\n",
      "0.8535         method    -0.9268          patch\n",
      "--------------------\n",
      "DOCS\n",
      " Positive Words          Negative Words\n",
      "4.9241            add    -2.3135           html\n",
      "4.4610         awesom    -2.0499           file\n",
      "4.0540        section    -1.9260          index\n",
      "4.0265           pull    -1.9059           page\n",
      "3.9133        request    -1.7599          solut\n",
      "3.7437           link    -1.4933           post\n",
      "3.1669          patch    -1.4293         commit\n",
      "2.9490           merg    -1.3702          slide\n",
      "2.9405           list    -1.3492            for\n",
      "2.8275           from    -1.3268          creat\n",
      "2.4762          readm    -1.3165           data\n",
      "2.3798             ad    -1.2928         github\n",
      "2.0401           tool    -1.1980          chang\n",
      "1.9745      contribut    -1.1980            fix\n",
      "1.9428         articl    -1.1363          build\n",
      "1.8635           book    -1.0722           json\n",
      "1.8239           badg    -1.0615         modifi\n",
      "1.7815             md    -1.0259         branch\n",
      "1.6462       descript    -0.9206          class\n",
      "1.6116       categori    -0.9126         assign\n",
      "--------------------\n",
      "EDU\n",
      " Positive Words          Negative Words\n",
      "4.8189          slide    -1.3756        request\n",
      "3.5687         materi    -1.3194           pull\n",
      "2.8443           note    -1.1966           post\n",
      "2.7333         exampl    -1.1036           from\n",
      "2.4935           typo    -1.0821             js\n",
      "2.1294          class    -1.0582           list\n",
      "2.0862          cours    -1.0572         commit\n",
      "2.0194            for    -1.0227           page\n",
      "1.7788             ad    -0.9904         awesom\n",
      "1.6383           week    -0.9638            new\n",
      "1.5749            day    -0.8748           json\n",
      "1.4916           file    -0.8607         articl\n",
      "1.1962           more    -0.8403           link\n",
      "1.1938             of    -0.8332             io\n",
      "1.1884          start    -0.8131          patch\n",
      "1.1777            pdf    -0.7909          style\n",
      "1.1736          intro    -0.7857          index\n",
      "1.1541          initi    -0.7219           blog\n",
      "1.1193         outlin    -0.6889            doc\n",
      "1.1149           code    -0.6649          cname\n",
      "--------------------\n",
      "HW\n",
      " Positive Words          Negative Words\n",
      "3.7706          solut    -1.8244          updat\n",
      "3.1222         assign    -1.3799           from\n",
      "2.2168         finish    -1.1874           typo\n",
      "1.5660          first    -1.1179             to\n",
      "1.4488         commit    -1.0829           data\n",
      "1.3772          initi    -1.0238           link\n",
      "1.3315           file    -1.0042        request\n",
      "1.2524             rm    -0.9644           pull\n",
      "1.2426      implement    -0.9406          share\n",
      "1.2348          final    -0.8553         materi\n",
      "1.1015       gitignor    -0.8335        publish\n",
      "1.0582           test    -0.7771         deploy\n",
      "1.0376          creat    -0.7384           post\n",
      "1.0206          readm    -0.7303           merg\n",
      "0.9933           init    -0.7293          slide\n",
      "0.9793          delet    -0.7153            fix\n",
      "0.9746        complet    -0.7124           json\n",
      "0.9540            and    -0.6619         licens\n",
      "0.9182           work    -0.6608         replac\n",
      "0.9062           done    -0.6249        content\n",
      "--------------------\n",
      "WEB\n",
      " Positive Words          Negative Words\n",
      "5.2228           post    -4.2449          readm\n",
      "4.5782           page    -3.2327             ad\n",
      "4.0799           html    -2.3167         awesom\n",
      "3.8468          index    -2.1704            add\n",
      "3.1558         github    -2.0992           data\n",
      "2.4457           site    -1.9957          solut\n",
      "2.2197          cname    -1.8982            and\n",
      "2.1946          updat    -1.8864          initi\n",
      "2.0965          jekyl    -1.5155           json\n",
      "1.9677           blog    -1.4862        section\n",
      "1.9494            css    -1.4597         assign\n",
      "1.7129             io    -1.2696             in\n",
      "1.5963          style    -1.2694          first\n",
      "1.5718         deploy    -1.2590            for\n",
      "1.5630           logo    -1.1961           file\n",
      "1.5305          build    -1.1522           week\n",
      "1.5067        publish    -1.1298          creat\n",
      "1.3971           link    -1.1067          slide\n",
      "1.3130            com    -1.0628             is\n",
      "1.3087         replac    -1.0259             of\n",
      "--------------------\n"
     ]
    }
   ],
   "source": [
    "from operator import itemgetter\n",
    "\n",
    "vect = pipl.named_steps[\"vect\"]\n",
    "clf = pipl.named_steps[\"clf\"]\n",
    "tvec = clf.coef_\n",
    "output = []\n",
    "for i in range(len(tvec)):\n",
    "    output.append(classes[i])\n",
    "    coefs = sorted(zip(tvec[i], vect.get_feature_names()), key=itemgetter(0), reverse=True)\n",
    "    n = 20\n",
    "    topn = zip(coefs[:n], coefs[:-(n+1):-1])\n",
    "    output.append(\"{:>15}    {: >20}\".format(\"Positive Words\", \"Negative Words\"))\n",
    "    for (cp, fnp), (cn, fnn) in topn:\n",
    "        output.append(u\"{:0.4f}{: >15}    {:0.4f}{: >15}\".format(\n",
    "            cp, fnp, cn, fnn\n",
    "            )\n",
    "    )\n",
    "    output.append(\"--------------------\")\n",
    "print \"\\n\".join(output)"
   ]
  },
  {
   "cell_type": "code",
   "execution_count": 5,
   "metadata": {
    "collapsed": false
   },
   "outputs": [
    {
     "data": {
      "text/plain": [
       "1562"
      ]
     },
     "execution_count": 5,
     "metadata": {},
     "output_type": "execute_result"
    }
   ],
   "source": [
    "len(pipl.named_steps['vect'].vocabulary_)"
   ]
  },
  {
   "cell_type": "code",
   "execution_count": null,
   "metadata": {
    "collapsed": true
   },
   "outputs": [],
   "source": []
  }
 ],
 "metadata": {
  "anaconda-cloud": {},
  "kernelspec": {
   "display_name": "Python 3",
   "language": "python",
   "name": "python3"
  },
  "language_info": {
   "codemirror_mode": {
    "name": "ipython",
    "version": 3
   },
   "file_extension": ".py",
   "mimetype": "text/x-python",
   "name": "python",
   "nbconvert_exporter": "python",
   "pygments_lexer": "ipython3",
   "version": "3.5.2"
  }
 },
 "nbformat": 4,
 "nbformat_minor": 1
}
