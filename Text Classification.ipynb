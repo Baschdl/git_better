{
 "cells": [
  {
   "cell_type": "code",
   "execution_count": 3,
   "metadata": {
    "collapsed": false
   },
   "outputs": [
    {
     "name": "stdout",
     "output_type": "stream",
     "text": [
      "The autoreload extension is already loaded. To reload it, use:\n",
      "  %reload_ext autoreload\n",
      "Fitting 3 folds for each of 36 candidates, totalling 108 fits\n"
     ]
    },
    {
     "name": "stderr",
     "output_type": "stream",
     "text": [
      "[Parallel(n_jobs=-1)]: Done 108 out of 108 | elapsed: 15.2min finished\n"
     ]
    },
    {
     "name": "stdout",
     "output_type": "stream",
     "text": [
      "Accuracy for readme feature:\n"
     ]
    },
    {
     "data": {
      "image/png": "[encoded data removed]",
      "text/plain": [
       "<matplotlib.figure.Figure at 0x7fdd4ad50c90>"
      ]
     },
     "output_type": "display_data",
     "metadata": {}
    },
    {
     "name": "stdout",
     "output_type": "stream",
     "text": [
      "0.516129032258\n"
     ]
    }
   ],
   "source": [
    "\"\"\"Fit SGDClassifier on a Tf-Idf matrix, evaluate it against the validation set\n",
    "and plot the most and least important words per category\"\"\"\n",
    "%load_ext autoreload\n",
    "%autoreload 2\n",
    "from app.evaluation import eval_classifier\n",
    "from app.training import get_best_text_pipeline, get_undersample_df\n",
    "from sklearn.preprocessing import LabelEncoder\n",
    "import pandas as pd\n",
    "import numpy\n",
    "\n",
    "train_df = pd.read_csv(\"data/processed_data.csv\")\n",
    "train_df = get_undersample_df(train_df)\n",
    "val_df = pd.DataFrame.from_csv(\"data/validation_data.csv\")\n",
    "y_train = train_df.pop(\"label\")\n",
    "y_val = val_df.pop(\"label\")\n",
    "\n",
    "le = LabelEncoder().fit(y_train)\n",
    "classes = le.classes_\n",
    "\n",
    "for text_feature in [\"readme\"]:  \n",
    "    train_df[text_feature].fillna(\"\", inplace=True)\n",
    "    val_df[text_feature].fillna(\"\", inplace=True)\n",
    "    X_train = train_df[text_feature].values\n",
    "    X_val = val_df[text_feature].values\n",
    "\n",
    "    ppl = find_best_text_pipeline(X_train, y_train)\n",
    "    print \"Accuracy for {} feature:\".format(text_feature)\n",
    "    acc = eval_classifier(ppl, X_val, y_val, le.classes_)\n",
    "    print acc"
   ]
  },
  {
   "cell_type": "code",
   "execution_count": 7,
   "metadata": {
    "collapsed": true
   },
   "outputs": [],
   "source": [
    "from app.training import save_pickle\n",
    "save_pickle(ppl, \"best_readme_pipeline_5161\")"
   ]
  },
  {
   "cell_type": "code",
   "execution_count": 6,
   "metadata": {
    "collapsed": false
   },
   "outputs": [
    {
     "data": {
      "text/plain": [
       "{'clf': SGDClassifier(alpha=1e-05, average=False, class_weight=None, epsilon=0.1,\n",
       "        eta0=0.0, fit_intercept=True, l1_ratio=0.15,\n",
       "        learning_rate='optimal', loss='log', n_iter=10, n_jobs=1,\n",
       "        penalty='l2', power_t=0.5, random_state=None, shuffle=True,\n",
       "        verbose=0, warm_start=False),\n",
       " 'tfidf': TfidfTransformer(norm=u'l2', smooth_idf=True, sublinear_tf=False,\n",
       "          use_idf=True),\n",
       " 'vect': CountVectorizer(analyzer=<function stemmed_words at 0x7fdd4dea82a8>,\n",
       "         binary=False, decode_error=u'strict', dtype=<type 'numpy.int64'>,\n",
       "         encoding=u'utf-8', input=u'content', lowercase=True, max_df=1.0,\n",
       "         max_features=None, min_df=1, ngram_range=(1, 2), preprocessor=None,\n",
       "         stop_words='english', strip_accents=None,\n",
       "         token_pattern=u'(?u)\\\\b\\\\w\\\\w+\\\\b', tokenizer=None,\n",
       "         vocabulary=None)}"
      ]
     },
     "execution_count": 6,
     "metadata": {},
     "output_type": "execute_result"
    }
   ],
   "source": [
    "ppl.named_steps"
   ]
  },
  {
   "cell_type": "code",
   "execution_count": 2,
   "metadata": {},
   "outputs": [
    {
     "name": "stdout",
     "output_type": "stream",
     "text": [
      "hpi-swt2-exercise/java-tdd-challenge: label: EDU\tpredicted: ['DATA'] for\n",
      "Fork this repository to learn TDD in Java\n",
      "vhf/free-programming-books: label: DATA\tpredicted: ['DOCS'] for\n",
      ":books: Freely available programming books\n",
      "d3/d3: label: DEV\tpredicted: ['DATA'] for\n",
      "Bring data to life with SVG, Canvas and HTML. :bar_chart::chart_with_upwards_trend::tada:\n",
      "carlosmn/CoMa-II: label: HW\tpredicted: ['WEB'] for\n",
      "description\n",
      "git/git-scm.com: label: DEV\tpredicted: ['WEB'] for\n",
      "The git-scm.com website. Note that this repository is only for the website; issues with git itself should go to https://git-scm.com/community.\n",
      "PowerDNS/pdns: label: DEV\tpredicted: ['WEB'] for\n",
      "PowerDNS\n",
      "cmrberry/cs6300-git-practice: label: HW\tpredicted: ['WEB'] for\n",
      "description\n",
      "mongodb/docs: label: DOCS\tpredicted: ['WEB'] for\n",
      "The MongoDB Documentation Project Source.\n",
      "sindresorhus/eslint-config-xo: label: DEV\tpredicted: ['WEB'] for\n",
      "ESLint shareable config for XO\n",
      "e-books/backbone.en.douceur: label: EDU\tpredicted: ['WEB'] for\n",
      "le gros tuto pour apprendre Backbone.js\n",
      "erikflowers/weather-icons: label: DEV\tpredicted: ['DOCS'] for\n",
      "215 Weather Themed Icons and CSS\n",
      "tensorflow/tensorflow: label: DEV\tpredicted: ['DOCS'] for\n",
      "Computation using data flow graphs for scalable machine learning\n",
      "Chicago/food-inspections-evaluation: label: WEB\tpredicted: ['DATA'] for\n",
      "This repository contains the code to generate predictions of critical violations at food establishments in Chicago. It also contains the results of an evaluation of the effectiveness of those predictions.\n",
      "OpenInstitute/OpenDuka: label: DEV\tpredicted: ['DATA'] for\n",
      "Open Duka is a project designed by the Open Institute that will provide a freely accessible database of information on Kenyan entities.   This information will provide citizens, journalists, and civic activists with a practical and easy-to-use tool to understand the ownership structure of the world they live in, demonstrating the practical applications of open information for normal citizens. It will serve as a core dataset for citizens, journalists, and civic activists who want to build 3rd party public transparency and public accountability apps or services, by allowing them to cross reference the Open Duka company shareholder data against other datasets. \n",
      "torvalds/linux: label: DEV\tpredicted: ['WEB'] for\n",
      "Linux kernel source tree\n",
      "hughperkins/howto-jenkins-ssl: label: DOCS\tpredicted: ['DEV'] for\n",
      "quick how to on activating ssl on jenkins, so I can find it easily\n"
     ]
    }
   ],
   "source": [
    "val_df = pd.DataFrame.from_csv(\"data/validation_data.csv\")\n",
    "val_df.fillna(\"description\", inplace=True)\n",
    "for i, row in val_df.iterrows():\n",
    "    true = row[\"label\"]\n",
    "    pred = ppl.predict([row[\"description\"]])\n",
    "    if true != pred:\n",
    "        print \"{}: label: {}\\tpredicted: {} for\\n{}\".format(row[\"repository\"], true, pred, row[\"description\"])"
   ]
  },
  {
   "cell_type": "code",
   "execution_count": 3,
   "metadata": {},
   "outputs": [
    {
     "name": "stdout",
     "output_type": "stream",
     "text": [
      "DATA\n",
      " Positive Words          Negative Words\n",
      "4.5454        dataset    -3.5198          curat\n",
      "4.4541           data    -3.3275         websit\n",
      "3.7519             us    -3.2966         materi\n",
      "3.5394        countri    -3.2948          upcom\n",
      "3.4947       catalogu    -3.2948      hackathon\n",
      "3.4947      exoplanet    -3.1064        footbal\n",
      "3.4631           name    -3.1063           blog\n",
      "3.4136          price    -2.6902          spice\n",
      "3.2948            639    -2.6902        rethink\n",
      "3.2553       metadata    -2.5849           tool\n",
      "3.2390          index    -2.5200          cours\n",
      "3.2304     datapackag    -2.4645        resourc\n",
      "2.8926            iso    -2.4468       document\n",
      "2.7931           unit    -2.3884          sourc\n",
      "2.7893         global    -2.3396          solut\n",
      "2.7828          natur    -2.3396       homework\n",
      "2.6872             as    -2.3298           我的博客\n",
      "2.6724          locat    -2.3298      北邮人常用网址导航\n",
      "2.4636        classif    -2.3298         我的前端博客\n",
      "2.4337         govern    -2.3298 siberiawolf的小窝\n",
      "--------------------\n",
      "DEV\n",
      " Positive Words          Negative Words\n",
      "4.7322         editor    -5.8304         materi\n",
      "4.7142      framework    -4.6545        resourc\n",
      "4.4667          build    -4.1314       document\n",
      "4.0353         racket    -3.9188           this\n",
      "3.8595       platform    -3.6836           blog\n",
      "3.7701         compil    -3.5748          cours\n",
      "3.4947        simplic    -3.5695           list\n",
      "3.4281             3d    -3.4491          solut\n",
      "3.3429        languag    -3.2474         websit\n",
      "3.2104            vim    -3.1587       homework\n",
      "3.1636          uniti    -3.1064           site\n",
      "3.1614          grade    -2.8117             at\n",
      "3.0895             vr    -2.6902           esri\n",
      "3.0157      enterpris    -2.6902          spice\n",
      "2.9875        program    -2.6902             vk\n",
      "2.9564           game    -2.6417          artsi\n",
      "2.8443            app    -2.5100           guid\n",
      "2.6902        rethink    -2.4900         awesom\n",
      "2.6902         studio    -2.4778           page\n",
      "2.6893            sdk    -2.3513        collect\n",
      "--------------------\n",
      "DOCS\n",
      " Positive Words          Negative Words\n",
      "6.5591         awesom    -4.6121           data\n",
      "6.3486        resourc    -4.3801           repo\n",
      "5.9385          curat    -3.7294           blog\n",
      "5.7068        datadog    -3.7251           open\n",
      "4.1676        beautif    -2.9625          build\n",
      "4.1676        typefac    -2.8604         docker\n",
      "3.9894       document    -2.7479         materi\n",
      "3.6202          about    -2.6902       metadata\n",
      "3.4186           guid    -2.6902           rail\n",
      "3.1750           list    -2.6902           girl\n",
      "3.0300           book    -2.6902        pattern\n",
      "2.9925           link    -2.6902        android\n",
      "2.6517         design    -2.6422       homework\n",
      "2.6417         hacker    -2.5793        languag\n",
      "2.6417           news    -2.5038           http\n",
      "2.3298          cheat    -2.3298recyclerview优秀文集\n",
      "2.3298        octocat    -2.3298       hellodog\n",
      "2.3298          sheet    -2.3298           我的博客\n",
      "2.3298          chess    -2.3298         我的前端博客\n",
      "2.3255           tool    -2.3298       颜海镜的个人博客\n",
      "--------------------\n",
      "EDU\n",
      " Positive Words          Negative Words\n",
      "9.5762         materi    -4.4302       homework\n",
      "3.4947            lua    -3.4791          solut\n",
      "3.3248        univers    -2.6902          spark\n",
      "2.6710         python    -2.5280       document\n",
      "2.3298       pretoria    -2.4711           blog\n",
      "2.3298         jqueri    -2.3298 siberiawolf的小窝\n",
      "2.3298             up    -2.3298          chess\n",
      "2.1767         lectur    -2.3298         我的前端博客\n",
      "2.0838      introduct    -2.3298       hellodog\n",
      "2.0838         novemb    -2.3298recyclerview优秀文集\n",
      "1.9837          cours    -2.3298       颜海镜的个人博客\n",
      "1.7612          adequ    -2.2257           list\n",
      "1.7612             fp    -2.1160           page\n",
      "1.7612           most    -2.0244             is\n",
      "1.7612           chen    -2.0177            git\n",
      "1.7612          cs35l    -1.9467           core\n",
      "1.7612            liu    -1.9170          engin\n",
      "1.7612            sec    -1.8656        resourc\n",
      "1.7612             ta    -1.7690           data\n",
      "1.7612           ucla    -1.7612        graphql\n",
      "--------------------\n",
      "HW\n",
      " Positive Words          Negative Words\n",
      "6.4789       homework    -3.6417         materi\n",
      "5.5822          solut    -2.7388         github\n",
      "3.0820         winter    -2.3298 siberiawolf的小窝\n",
      "2.6417         calcul    -2.3298           蓝色冰火\n",
      "2.6417         cs193p    -2.3298       颜海镜的个人博客\n",
      "2.0177            css    -2.3298           我的博客\n",
      "2.0177           week    -2.3298      北邮人常用网址导航\n",
      "1.5999          class    -2.3298recyclerview优秀文集\n",
      "1.4160           html    -2.3298            www\n",
      "1.3376           2015    -2.3298          chess\n",
      "1.2769           java    -2.3298       hellodog\n",
      "1.2495          cours    -2.2102           rail\n",
      "1.1969           need    -2.2102          handl\n",
      "1.1969             we    -2.2102          grade\n",
      "1.0198            100    -2.1818           code\n",
      "1.0198             64    -2.0838          readi\n",
      "1.0198             be    -1.8858          simpl\n",
      "1.0198            can    -1.8291            and\n",
      "1.0198         should    -1.7787           data\n",
      "1.0198          there    -1.7612           book\n",
      "--------------------\n",
      "WEB\n",
      " Positive Words          Negative Words\n",
      "6.0069         websit    -5.0809         materi\n",
      "4.1754      hackathon    -4.7557        datadog\n",
      "4.1482           blog    -4.2567       homework\n",
      "4.0353          spice    -4.1811        program\n",
      "3.8811           repo    -3.9345         editor\n",
      "3.8477         around    -3.8349             to\n",
      "3.7180           page    -3.7925           game\n",
      "3.3290           http    -3.5064      framework\n",
      "3.2948          upcom    -3.4290          about\n",
      "3.2804           site    -3.3996           data\n",
      "2.8534         karaok    -3.0300         awesom\n",
      "2.8534          night    -2.9761           list\n",
      "2.8534          waffl    -2.9309            and\n",
      "2.6902             vk    -2.8031         govern\n",
      "2.6902          spark    -2.8024             in\n",
      "2.6680         github    -2.7387           time\n",
      "2.5517        project    -2.7065           flow\n",
      "2.3298           蓝色冰火    -2.7065          build\n",
      "2.3298         我的前端博客    -2.6902        rethink\n",
      "2.3298 siberiawolf的小窝    -2.6902           edit\n",
      "--------------------\n"
     ]
    }
   ],
   "source": [
    "from operator import itemgetter\n",
    "\n",
    "vect = ppl.named_steps[\"vect\"]\n",
    "clf = ppl.named_steps[\"clf\"]\n",
    "tvec = clf.coef_\n",
    "output = []\n",
    "for i in range(len(tvec)):\n",
    "    output.append(classes[i])\n",
    "    coefs = sorted(zip(tvec[i], vect.get_feature_names()), key=itemgetter(0), reverse=True)\n",
    "    n = 20\n",
    "    topn = zip(coefs[:n], coefs[:-(n+1):-1])\n",
    "    output.append(\"{:>15}    {: >20}\".format(\"Positive Words\", \"Negative Words\"))\n",
    "    for (cp, fnp), (cn, fnn) in topn:\n",
    "        output.append(u\"{:0.4f}{: >15}    {:0.4f}{: >15}\".format(\n",
    "            cp, fnp, cn, fnn\n",
    "            )\n",
    "    )\n",
    "    output.append(\"--------------------\")\n",
    "print \"\\n\".join(output)"
   ]
  },
  {
   "cell_type": "code",
   "execution_count": null,
   "metadata": {},
   "outputs": [],
   "source": [
    ""
   ]
  }
 ],
 "metadata": {
  "kernelspec": {
   "display_name": "Python 2",
   "language": "python",
   "name": "python2"
  },
  "language_info": {
   "codemirror_mode": {
    "name": "ipython",
    "version": 2.0
   },
   "file_extension": ".py",
   "mimetype": "text/x-python",
   "name": "python",
   "nbconvert_exporter": "python",
   "pygments_lexer": "ipython2",
   "version": "2.7.12"
  }
 },
 "nbformat": 4,
 "nbformat_minor": 1
}