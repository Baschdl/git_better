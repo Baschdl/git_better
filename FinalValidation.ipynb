{
 "cells": [
  {
   "cell_type": "code",
   "execution_count": 1,
   "metadata": {
    "collapsed": false
   },
   "outputs": [],
   "source": [
    "%load_ext autoreload\n",
    "%autoreload 2\n",
    "from app.evaluation import print_boolean_matrix, get_accuracy_and_plot_confusion\n",
    "import pandas as pd\n",
    "from app.training import get_undersample_df\n",
    "from app.classifier import normalize, EnsembleAllNumeric, get_text_pipeline, get_voting_classifier, DescriptionClassifier, ReadmeClassifier, NumericEnsembleClassifier, normalize, EnsembleAllNumeric, keep_useful_features\n",
    "from app.constants import VALIDATION_DATA_PATH, PROCESSED_DATA_PATH\n",
    "from sklearn.ensemble import VotingClassifier"
   ]
  },
  {
   "cell_type": "code",
   "execution_count": 2,
   "metadata": {
    "collapsed": false
   },
   "outputs": [],
   "source": [
    "df = get_undersample_df(pd.read_csv(PROCESSED_DATA_PATH))\n",
    "df.pop(\"index\")\n",
    "df.pop(\"Unnamed: 0\")\n",
    "df = normalize(df)\n",
    "y = df.pop(\"label\")\n",
    "val_df = normalize(pd.read_csv(VALIDATION_DATA_PATH))\n",
    "y_val = val_df.pop(\"label\")"
   ]
  },
  {
   "cell_type": "code",
   "execution_count": 3,
   "metadata": {
    "collapsed": false
   },
   "outputs": [
    {
     "data": {
      "text/plain": [
       "VotingClassifier(estimators=[('description', <app.classifier.DescriptionClassifier object at 0x7fa34b6191d0>), ('readme', <app.classifier.ReadmeClassifier object at 0x7fa344612f90>), ('ensemble', <app.classifier.NumericEnsembleClassifier object at 0x7fa34b619490>)],\n",
       "         n_jobs=1, voting='soft', weights=None)"
      ]
     },
     "execution_count": 3,
     "metadata": {},
     "output_type": "execute_result"
    }
   ],
   "source": [
    "clf = VotingClassifier(estimators=[('description', DescriptionClassifier()),\n",
    "                                                     ('readme', ReadmeClassifier()),\n",
    "                                                     ('ensemble', NumericEnsembleClassifier())],\n",
    "                               voting='soft')\n",
    "clf.fit(df, y)"
   ]
  },
  {
   "cell_type": "code",
   "execution_count": 4,
   "metadata": {
    "collapsed": false
   },
   "outputs": [
    {
     "name": "stdout",
     "output_type": "stream",
     "text": [
      "\\begin{table}[h]\n",
      "\\centering\n",
      "\\caption{Boolean Matrix}\n",
      "\\label{boolean_matrix}\n",
      "\\begin{tabular}{|r|r|r|r|r|}\n",
      " \\hline\n",
      "Label & Predicted Correctly & Predicted Incorrectly & Precision & Recall \\\\ \\hline\n",
      "WEB & 2 & 2 & 0.40 & 0.50 \\\\ \\hline\n",
      "DOCS & 2 & 2 & 0.50 & 0.50 \\\\ \\hline\n",
      "HW & 5 & 0 & 0.71 & 1.00 \\\\ \\hline\n",
      "DEV & 8 & 3 & 0.89 & 0.73 \\\\ \\hline\n",
      "EDU & 2 & 2 & 1.00 & 0.50 \\\\ \\hline\n",
      "DATA & 2 & 1 & 0.50 & 0.67 \\\\ \\hline\n",
      "\\multicolumn{3}{|l|}{Weighted Average} & 0.72 & 0.68 \\\\ \\hline\n",
      "\\end{tabular}\n",
      "\\end{table}\n"
     ]
    }
   ],
   "source": [
    "predicted = clf.predict(val_df)\n",
    "print_boolean_matrix(y_val, predicted)"
   ]
  },
  {
   "cell_type": "code",
   "execution_count": 5,
   "metadata": {
    "collapsed": false
   },
   "outputs": [
    {
     "name": "stdout",
     "output_type": "stream",
     "text": [
      "['HW', 'HW', 'EDU', 'EDU', 'DEV', 'WEB', 'EDU', 'DOCS', 'DOCS', 'DATA', 'DEV', 'HW', 'DEV', 'DEV', 'HW', 'DEV', 'DOCS', 'DEV', 'EDU', 'DEV', 'DEV', 'WEB', 'HW', 'DATA', 'DATA', 'WEB', 'DEV', 'DEV', 'WEB', 'DEV', 'DOCS']\n",
      "['HW' 'HW' 'EDU' 'EDU' 'DEV' 'WEB' 'DEV' 'WEB' 'DOCS' 'DOCS' 'DEV' 'HW'\n",
      " 'DEV' 'DEV' 'HW' 'DEV' 'DOCS' 'DEV' 'WEB' 'DEV' 'DEV' 'WEB' 'HW' 'DATA'\n",
      " 'DATA' 'DATA' 'DATA' 'WEB' 'HW' 'DOCS' 'HW']\n"
     ]
    }
   ],
   "source": [
    "print list(y_val)\n",
    "print predicted"
   ]
  },
  {
   "cell_type": "code",
   "execution_count": 6,
   "metadata": {
    "collapsed": false
   },
   "outputs": [
    {
     "data": {
      "image/png": "[encoded data removed]",
      "text/plain": [
       "<matplotlib.figure.Figure at 0x7fa334697250>"
      ]
     },
     "metadata": {},
     "output_type": "display_data"
    },
    {
     "data": {
      "text/plain": [
       "0.67741935483870963"
      ]
     },
     "execution_count": 6,
     "metadata": {},
     "output_type": "execute_result"
    }
   ],
   "source": [
    "get_accuracy_and_plot_confusion(y_val, predicted, clf.classes_)"
   ]
  },
  {
   "cell_type": "code",
   "execution_count": 12,
   "metadata": {
    "collapsed": false
   },
   "outputs": [
    {
     "data": {
      "text/html": [
       "<div>\n",
       "<table border=\"1\" class=\"dataframe\">\n",
       "  <thead>\n",
       "    <tr style=\"text-align: right;\">\n",
       "      <th></th>\n",
       "      <th>repository</th>\n",
       "      <th>label</th>\n",
       "      <th>predicted</th>\n",
       "      <th>stargazers</th>\n",
       "    </tr>\n",
       "  </thead>\n",
       "  <tbody>\n",
       "    <tr>\n",
       "      <th>0</th>\n",
       "      <td>ga-chicago/wdi5-homework</td>\n",
       "      <td>HW</td>\n",
       "      <td>HW</td>\n",
       "      <td>0.0</td>\n",
       "    </tr>\n",
       "    <tr>\n",
       "      <th>1</th>\n",
       "      <td>Aggregates/MI_HW2</td>\n",
       "      <td>HW</td>\n",
       "      <td>HW</td>\n",
       "      <td>0.0</td>\n",
       "    </tr>\n",
       "    <tr>\n",
       "      <th>2</th>\n",
       "      <td>datasciencelabs/2016</td>\n",
       "      <td>EDU</td>\n",
       "      <td>EDU</td>\n",
       "      <td>38.0</td>\n",
       "    </tr>\n",
       "    <tr>\n",
       "      <th>3</th>\n",
       "      <td>githubteacher/intro-november-2015</td>\n",
       "      <td>EDU</td>\n",
       "      <td>EDU</td>\n",
       "      <td>13.0</td>\n",
       "    </tr>\n",
       "    <tr>\n",
       "      <th>4</th>\n",
       "      <td>atom/atom</td>\n",
       "      <td>DEV</td>\n",
       "      <td>DEV</td>\n",
       "      <td>31999.0</td>\n",
       "    </tr>\n",
       "    <tr>\n",
       "      <th>5</th>\n",
       "      <td>jmcglone/jmcglone.github.io</td>\n",
       "      <td>WEB</td>\n",
       "      <td>WEB</td>\n",
       "      <td>69.0</td>\n",
       "    </tr>\n",
       "    <tr>\n",
       "      <th>6</th>\n",
       "      <td>hpi-swt2-exercise/java-tdd-challenge</td>\n",
       "      <td>EDU</td>\n",
       "      <td>DEV</td>\n",
       "      <td>1.0</td>\n",
       "    </tr>\n",
       "    <tr>\n",
       "      <th>7</th>\n",
       "      <td>alphagov/performanceplatform-documentation</td>\n",
       "      <td>DOCS</td>\n",
       "      <td>WEB</td>\n",
       "      <td>5.0</td>\n",
       "    </tr>\n",
       "    <tr>\n",
       "      <th>8</th>\n",
       "      <td>harvesthq/how-to-walkabout</td>\n",
       "      <td>DOCS</td>\n",
       "      <td>DOCS</td>\n",
       "      <td>64.0</td>\n",
       "    </tr>\n",
       "    <tr>\n",
       "      <th>9</th>\n",
       "      <td>vhf/free-programming-books</td>\n",
       "      <td>DATA</td>\n",
       "      <td>DOCS</td>\n",
       "      <td>69085.0</td>\n",
       "    </tr>\n",
       "    <tr>\n",
       "      <th>10</th>\n",
       "      <td>d3/d3</td>\n",
       "      <td>DEV</td>\n",
       "      <td>DEV</td>\n",
       "      <td>56332.0</td>\n",
       "    </tr>\n",
       "    <tr>\n",
       "      <th>11</th>\n",
       "      <td>carlosmn/CoMa-II</td>\n",
       "      <td>HW</td>\n",
       "      <td>HW</td>\n",
       "      <td>0.0</td>\n",
       "    </tr>\n",
       "    <tr>\n",
       "      <th>12</th>\n",
       "      <td>git/git-scm.com</td>\n",
       "      <td>DEV</td>\n",
       "      <td>DEV</td>\n",
       "      <td>1258.0</td>\n",
       "    </tr>\n",
       "    <tr>\n",
       "      <th>13</th>\n",
       "      <td>PowerDNS/pdns</td>\n",
       "      <td>DEV</td>\n",
       "      <td>DEV</td>\n",
       "      <td>704.0</td>\n",
       "    </tr>\n",
       "    <tr>\n",
       "      <th>14</th>\n",
       "      <td>cmrberry/cs6300-git-practice</td>\n",
       "      <td>HW</td>\n",
       "      <td>HW</td>\n",
       "      <td>0.0</td>\n",
       "    </tr>\n",
       "    <tr>\n",
       "      <th>15</th>\n",
       "      <td>Sefaria/Sefaria-Project</td>\n",
       "      <td>DEV</td>\n",
       "      <td>DEV</td>\n",
       "      <td>134.0</td>\n",
       "    </tr>\n",
       "    <tr>\n",
       "      <th>16</th>\n",
       "      <td>mongodb/docs</td>\n",
       "      <td>DOCS</td>\n",
       "      <td>DOCS</td>\n",
       "      <td>445.0</td>\n",
       "    </tr>\n",
       "    <tr>\n",
       "      <th>17</th>\n",
       "      <td>sindresorhus/eslint-config-xo</td>\n",
       "      <td>DEV</td>\n",
       "      <td>DEV</td>\n",
       "      <td>67.0</td>\n",
       "    </tr>\n",
       "    <tr>\n",
       "      <th>18</th>\n",
       "      <td>e-books/backbone.en.douceur</td>\n",
       "      <td>EDU</td>\n",
       "      <td>WEB</td>\n",
       "      <td>101.0</td>\n",
       "    </tr>\n",
       "    <tr>\n",
       "      <th>19</th>\n",
       "      <td>erikflowers/weather-icons</td>\n",
       "      <td>DEV</td>\n",
       "      <td>DEV</td>\n",
       "      <td>3737.0</td>\n",
       "    </tr>\n",
       "    <tr>\n",
       "      <th>20</th>\n",
       "      <td>tensorflow/tensorflow</td>\n",
       "      <td>DEV</td>\n",
       "      <td>DEV</td>\n",
       "      <td>35812.0</td>\n",
       "    </tr>\n",
       "    <tr>\n",
       "      <th>21</th>\n",
       "      <td>cs231n/cs231n.github.io</td>\n",
       "      <td>WEB</td>\n",
       "      <td>WEB</td>\n",
       "      <td>1632.0</td>\n",
       "    </tr>\n",
       "    <tr>\n",
       "      <th>22</th>\n",
       "      <td>m2mtech/smashtag-2015</td>\n",
       "      <td>HW</td>\n",
       "      <td>HW</td>\n",
       "      <td>19.0</td>\n",
       "    </tr>\n",
       "    <tr>\n",
       "      <th>23</th>\n",
       "      <td>openaddresses/openaddresses</td>\n",
       "      <td>DATA</td>\n",
       "      <td>DATA</td>\n",
       "      <td>754.0</td>\n",
       "    </tr>\n",
       "    <tr>\n",
       "      <th>24</th>\n",
       "      <td>benbalter/congressional-districts</td>\n",
       "      <td>DATA</td>\n",
       "      <td>DATA</td>\n",
       "      <td>94.0</td>\n",
       "    </tr>\n",
       "    <tr>\n",
       "      <th>25</th>\n",
       "      <td>Chicago/food-inspections-evaluation</td>\n",
       "      <td>WEB</td>\n",
       "      <td>DATA</td>\n",
       "      <td>131.0</td>\n",
       "    </tr>\n",
       "    <tr>\n",
       "      <th>26</th>\n",
       "      <td>OpenInstitute/OpenDuka</td>\n",
       "      <td>DEV</td>\n",
       "      <td>DATA</td>\n",
       "      <td>40.0</td>\n",
       "    </tr>\n",
       "    <tr>\n",
       "      <th>27</th>\n",
       "      <td>torvalds/linux</td>\n",
       "      <td>DEV</td>\n",
       "      <td>WEB</td>\n",
       "      <td>38443.0</td>\n",
       "    </tr>\n",
       "    <tr>\n",
       "      <th>28</th>\n",
       "      <td>bhuga/bhuga.net</td>\n",
       "      <td>WEB</td>\n",
       "      <td>HW</td>\n",
       "      <td>1.0</td>\n",
       "    </tr>\n",
       "    <tr>\n",
       "      <th>29</th>\n",
       "      <td>macloo/just_enough_code</td>\n",
       "      <td>DEV</td>\n",
       "      <td>DOCS</td>\n",
       "      <td>1.0</td>\n",
       "    </tr>\n",
       "    <tr>\n",
       "      <th>30</th>\n",
       "      <td>hughperkins/howto-jenkins-ssl</td>\n",
       "      <td>DOCS</td>\n",
       "      <td>HW</td>\n",
       "      <td>25.0</td>\n",
       "    </tr>\n",
       "  </tbody>\n",
       "</table>\n",
       "</div>"
      ],
      "text/plain": [
       "                                    repository label predicted  stargazers\n",
       "0                     ga-chicago/wdi5-homework    HW        HW         0.0\n",
       "1                            Aggregates/MI_HW2    HW        HW         0.0\n",
       "2                         datasciencelabs/2016   EDU       EDU        38.0\n",
       "3            githubteacher/intro-november-2015   EDU       EDU        13.0\n",
       "4                                    atom/atom   DEV       DEV     31999.0\n",
       "5                  jmcglone/jmcglone.github.io   WEB       WEB        69.0\n",
       "6         hpi-swt2-exercise/java-tdd-challenge   EDU       DEV         1.0\n",
       "7   alphagov/performanceplatform-documentation  DOCS       WEB         5.0\n",
       "8                   harvesthq/how-to-walkabout  DOCS      DOCS        64.0\n",
       "9                   vhf/free-programming-books  DATA      DOCS     69085.0\n",
       "10                                       d3/d3   DEV       DEV     56332.0\n",
       "11                            carlosmn/CoMa-II    HW        HW         0.0\n",
       "12                             git/git-scm.com   DEV       DEV      1258.0\n",
       "13                               PowerDNS/pdns   DEV       DEV       704.0\n",
       "14                cmrberry/cs6300-git-practice    HW        HW         0.0\n",
       "15                     Sefaria/Sefaria-Project   DEV       DEV       134.0\n",
       "16                                mongodb/docs  DOCS      DOCS       445.0\n",
       "17               sindresorhus/eslint-config-xo   DEV       DEV        67.0\n",
       "18                 e-books/backbone.en.douceur   EDU       WEB       101.0\n",
       "19                   erikflowers/weather-icons   DEV       DEV      3737.0\n",
       "20                       tensorflow/tensorflow   DEV       DEV     35812.0\n",
       "21                     cs231n/cs231n.github.io   WEB       WEB      1632.0\n",
       "22                       m2mtech/smashtag-2015    HW        HW        19.0\n",
       "23                 openaddresses/openaddresses  DATA      DATA       754.0\n",
       "24           benbalter/congressional-districts  DATA      DATA        94.0\n",
       "25         Chicago/food-inspections-evaluation   WEB      DATA       131.0\n",
       "26                      OpenInstitute/OpenDuka   DEV      DATA        40.0\n",
       "27                              torvalds/linux   DEV       WEB     38443.0\n",
       "28                             bhuga/bhuga.net   WEB        HW         1.0\n",
       "29                     macloo/just_enough_code   DEV      DOCS         1.0\n",
       "30               hughperkins/howto-jenkins-ssl  DOCS        HW        25.0"
      ]
     },
     "execution_count": 12,
     "metadata": {},
     "output_type": "execute_result"
    }
   ],
   "source": [
    "val_df = pd.read_csv(VALIDATION_DATA_PATH)\n",
    "val_df[\"predicted\"] = predicted\n",
    "val_df[[\"repository\", \"label\", \"predicted\", \"stargazers\"]]"
   ]
  },
  {
   "cell_type": "code",
   "execution_count": null,
   "metadata": {
    "collapsed": true
   },
   "outputs": [],
   "source": []
  }
 ],
 "metadata": {
  "kernelspec": {
   "display_name": "Python 2",
   "language": "python",
   "name": "python2"
  },
  "language_info": {
   "codemirror_mode": {
    "name": "ipython",
    "version": 2
   },
   "file_extension": ".py",
   "mimetype": "text/x-python",
   "name": "python",
   "nbconvert_exporter": "python",
   "pygments_lexer": "ipython2",
   "version": "2.7.10"
  }
 },
 "nbformat": 4,
 "nbformat_minor": 2
}
