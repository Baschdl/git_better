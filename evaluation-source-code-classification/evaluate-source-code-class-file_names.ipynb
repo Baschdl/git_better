{
 "cells": [
  {
   "cell_type": "code",
   "execution_count": 5,
   "metadata": {
    "collapsed": false
   },
   "outputs": [],
   "source": [
    "from sklearn.externals import joblib\n",
    "import training\n",
    "pipl = joblib.load('../source-code-pipeline-all-lsvc-unigrams-0_1-0_9-file_names.pkl')"
   ]
  },
  {
   "cell_type": "code",
   "execution_count": 6,
   "metadata": {
    "collapsed": false
   },
   "outputs": [],
   "source": [
    "from evaluation import get_cleaned_processed_df\n",
    "import pandas as pd\n",
    "from sklearn.preprocessing import LabelEncoder\n",
    "\n",
    "df = pd.DataFrame.from_csv('../data/processed_data.csv')\n",
    "labels = df.pop(\"label\")\n",
    "le = LabelEncoder().fit(labels)\n",
    "classes = le.classes_"
   ]
  },
  {
   "cell_type": "code",
   "execution_count": 7,
   "metadata": {
    "collapsed": false
   },
   "outputs": [
    {
     "name": "stdout",
     "output_type": "stream",
     "text": [
      "DATA\n",
      " Positive Words          Negative Words\n",
      "3.2251           json    -1.5670         packag\n",
      "1.1139        makefil    -1.5648           test\n",
      "0.9449             sh    -1.5623           main\n",
      "0.6635            xml    -1.4399         config\n",
      "0.6452             py    -1.1262            png\n",
      "0.4514          readm    -1.0827            yml\n",
      "0.3790         licens    -0.9016      contribut\n",
      "0.3784          index    -0.7405            jpg\n",
      "0.3127            txt    -0.4513            css\n",
      "0.1726       gitignor    -0.2326          travi\n",
      "0.0919            pdf    -0.2206           util\n",
      "0.0861             md    -0.1236           html\n",
      "-0.0304             js    -0.0684            svg\n",
      "-0.0684            svg    -0.0304             js\n",
      "-0.1236           html    0.0861             md\n",
      "-0.2206           util    0.0919            pdf\n",
      "-0.2326          travi    0.1726       gitignor\n",
      "-0.4513            css    0.3127            txt\n",
      "-0.7405            jpg    0.3784          index\n",
      "-0.9016      contribut    0.3790         licens\n",
      "--------------------\n",
      "DEV\n",
      " Positive Words          Negative Words\n",
      "3.4637           util    -1.9203            pdf\n",
      "2.3105         packag    -1.0563          travi\n",
      "1.8472            yml    -0.9946            css\n",
      "1.7875           test    -0.5838          readm\n",
      "1.4706             sh    -0.5619             md\n",
      "1.4247             js    -0.3192       gitignor\n",
      "1.3238           html    0.0541            svg\n",
      "1.2926        makefil    0.1224            jpg\n",
      "0.9907         config    0.2526           json\n",
      "0.9156           main    0.3078      contribut\n",
      "0.7826            png    0.4977             py\n",
      "0.7679         licens    0.5805            txt\n",
      "0.7235          index    0.7082            xml\n",
      "0.7082            xml    0.7235          index\n",
      "0.5805            txt    0.7679         licens\n",
      "0.4977             py    0.7826            png\n",
      "0.3078      contribut    0.9156           main\n",
      "0.2526           json    0.9907         config\n",
      "0.1224            jpg    1.2926        makefil\n",
      "0.0541            svg    1.3238           html\n",
      "--------------------\n",
      "DOCS\n",
      " Positive Words          Negative Words\n",
      "4.5622      contribut    -1.0314         config\n",
      "2.8728          travi    -1.0044           html\n",
      "2.0420            yml    -0.7121            xml\n",
      "1.7639         licens    -0.6340           json\n",
      "1.7214             md    -0.5722        makefil\n",
      "1.2027         packag    -0.5702           main\n",
      "1.1108            svg    -0.5697           test\n",
      "0.6831            png    -0.5455             sh\n",
      "0.6714          index    -0.4359             py\n",
      "0.3497          readm    -0.4040            txt\n",
      "0.2890            css    -0.3430             js\n",
      "0.2780            jpg    -0.2187            pdf\n",
      "-0.0722       gitignor    -0.1440           util\n",
      "-0.1440           util    -0.0722       gitignor\n",
      "-0.2187            pdf    0.2780            jpg\n",
      "-0.3430             js    0.2890            css\n",
      "-0.4040            txt    0.3497          readm\n",
      "-0.4359             py    0.6714          index\n",
      "-0.5455             sh    0.6831            png\n",
      "-0.5697           test    1.1108            svg\n",
      "--------------------\n",
      "EDU\n",
      " Positive Words          Negative Words\n",
      "1.7966            pdf    -1.9717      contribut\n",
      "1.5195           html    -1.2080            yml\n",
      "1.3308            jpg    -1.1482           util\n",
      "1.0053            svg    -0.8443           json\n",
      "0.9685            png    -0.2571         packag\n",
      "0.8496       gitignor    0.1023          index\n",
      "0.6726             py    0.1042         config\n",
      "0.6248        makefil    0.1085          travi\n",
      "0.5158         licens    0.1407             md\n",
      "0.4517            css    0.2778          readm\n",
      "0.4501            txt    0.3019           test\n",
      "0.4491            xml    0.3342           main\n",
      "0.4232             sh    0.3983             js\n",
      "0.3983             js    0.4232             sh\n",
      "0.3342           main    0.4491            xml\n",
      "0.3019           test    0.4501            txt\n",
      "0.2778          readm    0.4517            css\n",
      "0.1407             md    0.5158         licens\n",
      "0.1085          travi    0.6248        makefil\n",
      "0.1042         config    0.6726             py\n",
      "--------------------\n",
      "HW\n",
      " Positive Words          Negative Words\n",
      "2.0428            css    -1.5755      contribut\n",
      "1.7615           main    -1.3501         licens\n",
      "1.5388         config    -1.0360            yml\n",
      "1.2715       gitignor    -0.8501          travi\n",
      "0.9140            txt    -0.8123            svg\n",
      "0.7449          readm    -0.8035           util\n",
      "0.5342             py    -0.5982         packag\n",
      "0.5257           test    -0.4826           json\n",
      "0.4687            xml    -0.3102        makefil\n",
      "0.4144          index    -0.2012             sh\n",
      "0.3984            pdf    -0.1943           html\n",
      "0.3699             js    -0.1773            png\n",
      "0.3128             md    0.2245            jpg\n",
      "0.2245            jpg    0.3128             md\n",
      "-0.1773            png    0.3699             js\n",
      "-0.1943           html    0.3984            pdf\n",
      "-0.2012             sh    0.4144          index\n",
      "-0.3102        makefil    0.4687            xml\n",
      "-0.4826           json    0.5257           test\n",
      "-0.5982         packag    0.5342             py\n",
      "--------------------\n",
      "WEB\n",
      " Positive Words          Negative Words\n",
      "-0.9372           util    -2.4446             md\n",
      "-1.4294      contribut    -2.0628          readm\n",
      "-1.4588         packag    -1.9461             js\n",
      "-1.5739             sh    -1.9392            txt\n",
      "-1.5992            yml    -1.9117           html\n",
      "-1.6035            svg    -1.9110            png\n",
      "-1.6165          index    -1.8890           json\n",
      "-1.6295         licens    -1.8842             py\n",
      "-1.6888        makefil    -1.8702            xml\n",
      "-1.7010            css    -1.8512            pdf\n",
      "-1.7115           main    -1.8435       gitignor\n",
      "-1.7224            jpg    -1.7930          travi\n",
      "-1.7246         config    -1.7274           test\n",
      "-1.7274           test    -1.7246         config\n",
      "-1.7930          travi    -1.7224            jpg\n",
      "-1.8435       gitignor    -1.7115           main\n",
      "-1.8512            pdf    -1.7010            css\n",
      "-1.8702            xml    -1.6888        makefil\n",
      "-1.8842             py    -1.6295         licens\n",
      "-1.8890           json    -1.6165          index\n",
      "--------------------\n"
     ]
    }
   ],
   "source": [
    "from operator import itemgetter\n",
    "\n",
    "vect = pipl.named_steps[\"vect\"]\n",
    "clf = pipl.named_steps[\"clf\"]\n",
    "tvec = clf.coef_\n",
    "output = []\n",
    "for i in range(len(tvec)):\n",
    "    output.append(classes[i])\n",
    "    coefs = sorted(zip(tvec[i], vect.get_feature_names()), key=itemgetter(0), reverse=True)\n",
    "    n = 20\n",
    "    topn = zip(coefs[:n], coefs[:-(n+1):-1])\n",
    "    output.append(\"{:>15}    {: >20}\".format(\"Positive Words\", \"Negative Words\"))\n",
    "    for (cp, fnp), (cn, fnn) in topn:\n",
    "        output.append(u\"{:0.4f}{: >15}    {:0.4f}{: >15}\".format(\n",
    "            cp, fnp, cn, fnn\n",
    "            )\n",
    "    )\n",
    "    output.append(\"--------------------\")\n",
    "print \"\\n\".join(output)"
   ]
  },
  {
   "cell_type": "code",
   "execution_count": 8,
   "metadata": {
    "collapsed": false
   },
   "outputs": [
    {
     "data": {
      "text/plain": [
       "26"
      ]
     },
     "execution_count": 8,
     "metadata": {},
     "output_type": "execute_result"
    }
   ],
   "source": [
    "len(pipl.named_steps['vect'].vocabulary_)"
   ]
  },
  {
   "cell_type": "code",
   "execution_count": null,
   "metadata": {
    "collapsed": true
   },
   "outputs": [],
   "source": []
  }
 ],
 "metadata": {
  "anaconda-cloud": {},
  "kernelspec": {
   "display_name": "Python 2",
   "language": "python",
   "name": "python2"
  },
  "language_info": {
   "codemirror_mode": {
    "name": "ipython",
    "version": 2
   },
   "file_extension": ".py",
   "mimetype": "text/x-python",
   "name": "python",
   "nbconvert_exporter": "python",
   "pygments_lexer": "ipython2",
   "version": "2.7.10"
  }
 },
 "nbformat": 4,
 "nbformat_minor": 1
}
