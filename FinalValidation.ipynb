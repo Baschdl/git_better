{
 "cells": [
  {
   "cell_type": "code",
   "execution_count": 1,
   "metadata": {
    "collapsed": false
   },
   "outputs": [],
   "source": [
    "%load_ext autoreload\n",
    "%autoreload 2\n",
    "from app.evaluation import print_boolean_matrix, get_accuracy_and_plot_confusion\n",
    "import pandas as pd\n",
    "from app.training import get_undersample_df\n",
    "from app.classifier import normalize, EnsembleAllNumeric\n",
    "from app.constants import VALIDATION_DATA_PATH, TRAINING_DATA_PATH"
   ]
  },
  {
   "cell_type": "code",
   "execution_count": 2,
   "metadata": {
    "collapsed": false
   },
   "outputs": [],
   "source": [
    "df = normalize(get_undersample_df(pd.read_csv(TRAINING_DATA_PATH)))\n",
    "y = df.pop(\"label\")\n",
    "val_df = normalize(pd.read_csv(VALIDATION_DATA_PATH))\n",
    "y_val = val_df.pop(\"label\")"
   ]
  },
  {
   "cell_type": "code",
   "execution_count": 3,
   "metadata": {
    "collapsed": false
   },
   "outputs": [
    {
     "data": {
      "text/plain": [
       "<app.classifier.EnsembleAllNumeric at 0x7f44d230a210>"
      ]
     },
     "execution_count": 3,
     "metadata": {},
     "output_type": "execute_result"
    }
   ],
   "source": [
    "clf = EnsembleAllNumeric()\n",
    "clf.fit(df, y)"
   ]
  },
  {
   "cell_type": "code",
   "execution_count": 4,
   "metadata": {
    "collapsed": false
   },
   "outputs": [
    {
     "name": "stdout",
     "output_type": "stream",
     "text": [
      "\\begin{table}[h]\n",
      "\\centering\n",
      "\\caption{Boolean Matrix}\n",
      "\\label{boolean_matrix}\n",
      "\\begin{tabular}{|r|r|r|r|r|}\n",
      " \\hline\n",
      "Label & Predicted Correctly & Predicted Incorrectly & Precision & Recall \\\\ \\hline\n",
      "WEB & 4 & 0 & 0.13 & 1.00 \\\\ \\hline\n",
      "DOCS & 0 & 4 & 0.00 & 0.00 \\\\ \\hline\n",
      "HW & 0 & 5 & 0.00 & 0.00 \\\\ \\hline\n",
      "DEV & 0 & 11 & 0.00 & 0.00 \\\\ \\hline\n",
      "EDU & 0 & 4 & 0.00 & 0.00 \\\\ \\hline\n",
      "DATA & 0 & 3 & 0.00 & 0.00 \\\\ \\hline\n",
      "\\multicolumn{3}{|l|}{Weighted Average} & 0.02 & 0.13 \\\\ \\hline\n",
      "\\end{tabular}\n",
      "\\end{table}\n"
     ]
    },
    {
     "name": "stderr",
     "output_type": "stream",
     "text": [
      "/home/madness/Documents/Projects/git_better/venv2/local/lib/python2.7/site-packages/sklearn/metrics/classification.py:1113: UndefinedMetricWarning: Precision and F-score are ill-defined and being set to 0.0 in labels with no predicted samples.\n",
      "  'precision', 'predicted', average, warn_for)\n",
      "/home/madness/Documents/Projects/git_better/venv2/local/lib/python2.7/site-packages/sklearn/metrics/classification.py:1113: UndefinedMetricWarning: Precision is ill-defined and being set to 0.0 in labels with no predicted samples.\n",
      "  'precision', 'predicted', average, warn_for)\n"
     ]
    }
   ],
   "source": [
    "predicted = clf.predict(val_df)\n",
    "print_boolean_matrix(y_val, predicted)"
   ]
  },
  {
   "cell_type": "code",
   "execution_count": 5,
   "metadata": {
    "collapsed": false
   },
   "outputs": [
    {
     "name": "stdout",
     "output_type": "stream",
     "text": [
      "['HW', 'HW', 'EDU', 'EDU', 'DEV', 'WEB', 'EDU', 'DOCS', 'DOCS', 'DATA', 'DEV', 'HW', 'DEV', 'DEV', 'HW', 'DEV', 'DOCS', 'DEV', 'EDU', 'DEV', 'DEV', 'WEB', 'HW', 'DATA', 'DATA', 'WEB', 'DEV', 'DEV', 'WEB', 'DEV', 'DOCS']\n",
      "['WEB' 'WEB' 'WEB' 'WEB' 'WEB' 'WEB' 'WEB' 'WEB' 'WEB' 'WEB' 'WEB' 'WEB'\n",
      " 'WEB' 'WEB' 'WEB' 'WEB' 'WEB' 'WEB' 'WEB' 'WEB' 'WEB' 'WEB' 'WEB' 'WEB'\n",
      " 'WEB' 'WEB' 'WEB' 'WEB' 'WEB' 'WEB' 'WEB']\n"
     ]
    }
   ],
   "source": [
    "print list(y_val)\n",
    "print predicted"
   ]
  },
  {
   "cell_type": "code",
   "execution_count": 6,
   "metadata": {
    "collapsed": false
   },
   "outputs": [
    {
     "data": {
      "image/png": "[encoded data removed]",
      "text/plain": [
       "<matplotlib.figure.Figure at 0x7f44cc2f5c90>"
      ]
     },
     "metadata": {},
     "output_type": "display_data"
    },
    {
     "data": {
      "text/plain": [
       "0.12903225806451613"
      ]
     },
     "execution_count": 6,
     "metadata": {},
     "output_type": "execute_result"
    }
   ],
   "source": [
    "get_accuracy_and_plot_confusion(y_val, predicted, clf.clf.classes_)"
   ]
  },
  {
   "cell_type": "code",
   "execution_count": null,
   "metadata": {
    "collapsed": true
   },
   "outputs": [],
   "source": []
  }
 ],
 "metadata": {
  "kernelspec": {
   "display_name": "Python 2",
   "language": "python",
   "name": "python2"
  },
  "language_info": {
   "codemirror_mode": {
    "name": "ipython",
    "version": 2
   },
   "file_extension": ".py",
   "mimetype": "text/x-python",
   "name": "python",
   "nbconvert_exporter": "python",
   "pygments_lexer": "ipython2",
   "version": "2.7.10"
  }
 },
 "nbformat": 4,
 "nbformat_minor": 2
}
