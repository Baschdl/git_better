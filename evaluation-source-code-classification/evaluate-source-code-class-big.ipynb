{
 "cells": [
  {
   "cell_type": "code",
   "execution_count": 2,
   "metadata": {
    "collapsed": false
   },
   "outputs": [],
   "source": [
    "from sklearn.externals import joblib\n",
    "pipl = joblib.load('../source-code-pipeline-all.pkl')"
   ]
  },
  {
   "cell_type": "code",
   "execution_count": 5,
   "metadata": {
    "collapsed": false
   },
   "outputs": [
    {
     "data": {
      "text/plain": [
       "17389149"
      ]
     },
     "execution_count": 5,
     "metadata": {},
     "output_type": "execute_result"
    }
   ],
   "source": [
    "pipl.named_steps['vect'].vocabulary_.get(u'algorithm')"
   ]
  },
  {
   "cell_type": "code",
   "execution_count": 16,
   "metadata": {
    "collapsed": false
   },
   "outputs": [],
   "source": [
    "from evaluation import get_cleaned_processed_df\n",
    "import pandas as pd\n",
    "from sklearn.preprocessing import LabelEncoder\n",
    "\n",
    "df = pd.DataFrame.from_csv('../data/processed_data.csv')\n",
    "labels = df.pop(\"label\")\n",
    "le = LabelEncoder().fit(labels)\n",
    "classes = le.classes_"
   ]
  },
  {
   "cell_type": "code",
   "execution_count": 17,
   "metadata": {
    "collapsed": false
   },
   "outputs": [
    {
     "name": "stdout",
     "output_type": "stream",
     "text": [
      "DATA\n",
      " Positive Words          Negative Words\n",
      "15.8798            csv    -5.1443             00\n",
      "14.5357             01    -4.4907           2016\n",
      "11.4974        countri    -4.1629         return\n",
      "10.4433        dataset    -3.5731            utc\n",
      "8.6672           citi    -3.4172             pm\n",
      "8.5019           pddl    -3.3633             cu\n",
      "8.3280           2007    -3.2122       function\n",
      "8.2628            sic    -3.1996          color\n",
      "7.9571           type    -3.1319             5t\n",
      "7.6349            gov    -2.8658         awesom\n",
      "6.9777            vnd    -2.8290            att\n",
      "6.9381           data    -2.6345           your\n",
      "6.9189           2011    -2.5761             ss\n",
      "6.9100           2014    -2.5761         000000\n",
      "6.8459            gmd    -2.5225            you\n",
      "6.5427         counti    -2.4980           fill\n",
      "6.1641     errorminus    -2.4679             5q\n",
      "6.1636      errorplus    -2.2536          class\n",
      "6.0823            iso    -2.2393        wafflej\n",
      "5.7965       descript    -2.1996             am\n",
      "--------------------\n",
      "DEV\n",
      " Positive Words          Negative Words\n",
      "12.8545         fileid    -5.1870     repositori\n",
      "9.9441          const    -4.4365            you\n",
      "9.6625            end    -4.4138         awesom\n",
      "9.3110         expect    -4.0737           your\n",
      "8.7904            foo    -3.5679         length\n",
      "7.4921       foodicon    -3.5644       function\n",
      "7.2273            err    -3.4935           href\n",
      "6.6612         vertex    -3.3018           titl\n",
      "6.1595         assert    -3.2206       descript\n",
      "6.1401        octokit    -3.0772             10\n",
      "5.9895      openstack    -3.0660           data\n",
      "5.7023           self    -3.0568         number\n",
      "5.6651             do    -3.0128        android\n",
      "5.3153           valu    -3.0005            www\n",
      "5.2112         return    -2.9120          color\n",
      "5.2013            nil    -2.6552       homework\n",
      "5.1730           0x00    -2.6512           rank\n",
      "5.1172            env    -2.5602           cout\n",
      "4.9893         docker    -2.5311 objectbuilder2\n",
      "4.9574           func    -2.4871          solut\n",
      "--------------------\n",
      "DOCS\n",
      " Positive Words          Negative Words\n",
      "37.9409         awesom    -11.7689          class\n",
      "19.2272            www    -9.8120         return\n",
      "18.6937           your    -8.0493           type\n",
      "15.8865    awesome_bot    -7.6331             id\n",
      "15.0961        suggest    -7.3579            div\n",
      "13.2963   sindresorhus    -7.2256         lectur\n",
      "13.2856       guidelin    -6.8067             li\n",
      "12.6115        request    -6.7318            var\n",
      "12.4982      contribut    -6.7106         string\n",
      "12.3593           pull    -6.6164          color\n",
      "11.6388            org    -6.3027            int\n",
      "11.1091           make    -6.2626         import\n",
      "11.0790        softwar    -6.0145           href\n",
      "11.0200         affirm    -6.0036            end\n",
      "10.6727           link    -5.5960      highlight\n",
      "10.4787        project    -5.5614       function\n",
      "9.4747           tool    -5.4936       homework\n",
      "9.2076             md    -5.4817             we\n",
      "8.6878        angular    -5.3222           self\n",
      "8.5992          readm    -5.2882           valu\n",
      "--------------------\n",
      "EDU\n",
      " Positive Words          Negative Words\n",
      "14.6371         lectur    -4.8055         awesom\n",
      "12.3447             00    -4.3934     repositori\n",
      "10.1572          00000    -3.9251         return\n",
      "9.7285       cell_typ    -2.6571           2014\n",
      "9.4858          begin    -2.5919            key\n",
      "8.3868           rdfs    -2.5667            114\n",
      "7.8751        android    -2.5646       homework\n",
      "7.0314          slide    -2.4014             pm\n",
      "6.5865           item    -2.3550         margin\n",
      "6.4058ffffffffffffffffffffffffffffffffffffffffffffffffffffffffffffffffffffffffffffff    -2.3053            svg\n",
      "6.1564            lxc    -2.2932             am\n",
      "6.0590         materi    -2.2578         mathbb\n",
      "6.0151       openimaj    -2.2326000000000000000000e\n",
      "5.8501            rdf    -2.2087         length\n",
      "5.7429         reveal    -2.1509        lastmod\n",
      "5.6655            att    -2.1460         b02617\n",
      "5.4609         scylec    -2.1294          itorr\n",
      "5.4352         import    -2.0869      jptiancai\n",
      "5.2395          frame    -2.0442         b02598\n",
      "5.0788          foral    -2.0305        request\n",
      "--------------------\n",
      "HW\n",
      " Positive Words          Negative Words\n",
      "14.5114       homework    -4.4606           type\n",
      "11.0211            int    -3.5530           null\n",
      "10.8537          solut    -3.0308             m6\n",
      "10.7025         number    -2.6859           0x00\n",
      "9.5552         system    -2.6049         licens\n",
      "8.9972         string    -2.6008       descript\n",
      "8.0153         export    -2.5770            foo\n",
      "7.8574         consol    -2.3945           span\n",
      "7.1376        gladiat    -2.2420      highlight\n",
      "7.1354            log    -2.2364           font\n",
      "7.0993            col    -2.2311          class\n",
      "7.0549        softuni    -2.2201          const\n",
      "6.8284   begin_layout    -2.1499         awesom\n",
      "6.8284     end_layout    -2.1209            org\n",
      "6.2421   knapsackitem    -2.1174           code\n",
      "6.1284           gene    -2.1091            www\n",
      "6.0220      minibatch    -2.0749         fsharp\n",
      "6.0120          guess    -2.0534ffffffffffffffffffffffffffffffffffffffffffffffffffffffffffffffffffffffffffffff\n",
      "6.0016           3296    -2.0460         expect\n",
      "5.8436            ski    -1.9849             11\n",
      "--------------------\n",
      "WEB\n",
      " Positive Words          Negative Words\n",
      "29.9622             5t    -8.6180           self\n",
      "21.2225           href    -7.9384            end\n",
      "21.1386          color    -7.6852            col\n",
      "18.2118       function    -7.5040         consol\n",
      "16.1452          glyph    -7.4804         awesom\n",
      "15.5923      highlight    -7.4601       foodicon\n",
      "14.7536            div    -6.9887            log\n",
      "13.8095             li    -6.7684            int\n",
      "13.5162            var    -6.6451         string\n",
      "13.3720         margin    -6.5137       markdown\n",
      "13.1328           span    -6.1330         expect\n",
      "12.7354           font    -5.9628        section\n",
      "12.6367           post    -5.7539            arg\n",
      "12.4874     background    -5.5597             01\n",
      "11.7889           left    -5.4579         assert\n",
      "11.6455          horiz    -5.1985         should\n",
      "11.5029         unicod    -5.1880            key\n",
      "11.3711          class    -5.1153            let\n",
      "11.2306          hkern    -5.0395          param\n",
      "11.1553            adv    -5.0009          const\n",
      "--------------------\n"
     ]
    }
   ],
   "source": [
    "from operator import itemgetter\n",
    "\n",
    "vect = pipl.named_steps[\"vect\"]\n",
    "clf = pipl.named_steps[\"clf\"]\n",
    "tvec = clf.coef_\n",
    "output = []\n",
    "for i in range(len(tvec)):\n",
    "    output.append(classes[i])\n",
    "    coefs = sorted(zip(tvec[i], vect.get_feature_names()), key=itemgetter(0), reverse=True)\n",
    "    n = 20\n",
    "    topn = zip(coefs[:n], coefs[:-(n+1):-1])\n",
    "    output.append(\"{:>15}    {: >20}\".format(\"Positive Words\", \"Negative Words\"))\n",
    "    for (cp, fnp), (cn, fnn) in topn:\n",
    "        output.append(u\"{:0.4f}{: >15}    {:0.4f}{: >15}\".format(\n",
    "            cp, fnp, cn, fnn\n",
    "            )\n",
    "    )\n",
    "    output.append(\"--------------------\")\n",
    "print \"\\n\".join(output)"
   ]
  },
  {
   "cell_type": "code",
   "execution_count": 21,
   "metadata": {
    "collapsed": false
   },
   "outputs": [
    {
     "name": "stdout",
     "output_type": "stream",
     "text": [
      "['HW' 'DEV' 'DATA' 'EDU' 'EDU' 'HW']\n"
     ]
    }
   ],
   "source": [
    "print pipl.predict(['homework', 'app', 'application', 'notes', 'submission','public static void main String args'])"
   ]
  },
  {
   "cell_type": "raw",
   "metadata": {},
   "source": [
    "'vect__max_df': [0.8],\n",
    "'vect__ngram_range': [(1, 2)],  # unigrams or bigrams\n",
    "'tfidf__use_idf': [True],\n",
    "'tfidf__norm': ['l1'],\n",
    "'clf__alpha': [0.00001],\n",
    "'clf__penalty': ['elasticnet'],\n",
    "'clf__n_iter': [10]"
   ]
  },
  {
   "cell_type": "code",
   "execution_count": 23,
   "metadata": {
    "collapsed": false
   },
   "outputs": [
    {
     "data": {
      "text/plain": [
       "30068236"
      ]
     },
     "execution_count": 23,
     "metadata": {},
     "output_type": "execute_result"
    }
   ],
   "source": [
    "len(pipl.named_steps['vect'].vocabulary_)"
   ]
  },
  {
   "cell_type": "code",
   "execution_count": 38,
   "metadata": {
    "collapsed": false
   },
   "outputs": [
    {
     "name": "stdout",
     "output_type": "stream",
     "text": [
      "1.28274030454\n",
      "1.23865603141\n",
      "1.27712231224\n",
      "1.27618904105\n",
      "1.28839003708\n",
      "1.26229349556\n",
      "1.24406144998\n",
      "1.26321388219\n",
      "1.22793206805\n",
      "1.28556118088\n",
      "1.28650324407\n",
      "1.25496074043\n",
      "1.25313592241\n",
      "1.28086413138\n",
      "1.2323864184\n",
      "1.27246464196\n",
      "1.22438281853\n",
      "1.29217433677\n",
      "1.29312265358\n",
      "1.29407187055\n"
     ]
    }
   ],
   "source": [
    "import numpy as np\n",
    "x = pipl.named_steps['tfidf'].idf_\n",
    "j = 0\n",
    "for i in x[np.argpartition(x, 20)]:\n",
    "    if j < 20:\n",
    "        print i\n",
    "    else:\n",
    "        break\n",
    "    j += 1"
   ]
  },
  {
   "cell_type": "code",
   "execution_count": 36,
   "metadata": {
    "collapsed": false
   },
   "outputs": [
    {
     "name": "stdout",
     "output_type": "stream",
     "text": [
      "2\n",
      "10\n",
      "5\n",
      "4\n",
      "1\n",
      "3\n",
      "6\n",
      "0\n",
      "12\n",
      "8\n",
      "9\n",
      "7\n",
      "13\n",
      "11\n",
      "14\n",
      "15\n",
      "17\n",
      "18\n",
      "16\n",
      "19\n"
     ]
    }
   ],
   "source": [
    "import numpy as np\n",
    "x = np.asarray(pipl.named_steps['vect'].vocabulary_.values())\n",
    "j = 0\n",
    "for i in x[np.argpartition(x, 20)]:\n",
    "    if j < 20:\n",
    "        print i\n",
    "    else:\n",
    "        break\n",
    "    j += 1"
   ]
  },
  {
   "cell_type": "code",
   "execution_count": 41,
   "metadata": {
    "collapsed": false
   },
   "outputs": [
    {
     "name": "stdout",
     "output_type": "stream",
     "text": [
      "30068216\n",
      "30068216\n",
      "30068217\n",
      "30068223\n",
      "30068231\n",
      "30068229\n",
      "30068234\n",
      "30068235\n",
      "30068228\n",
      "30068233\n",
      "30068219\n",
      "30068222\n",
      "30068218\n",
      "30068227\n",
      "30068221\n",
      "30068230\n",
      "30068232\n",
      "30068226\n",
      "30068225\n",
      "30068220\n",
      "30068224\n"
     ]
    }
   ],
   "source": [
    "import numpy as np\n",
    "x = np.asarray(pipl.named_steps['vect'].vocabulary_.values())\n",
    "j = 0\n",
    "print(len(x)-20)\n",
    "for i in x[np.argpartition(x, len(x)-20)]:\n",
    "    if j >= len(x)-20:\n",
    "        print i\n",
    "    j += 1"
   ]
  },
  {
   "cell_type": "code",
   "execution_count": null,
   "metadata": {
    "collapsed": true
   },
   "outputs": [],
   "source": []
  }
 ],
 "metadata": {
  "anaconda-cloud": {},
  "kernelspec": {
   "display_name": "Python [conda env:tensorflow]",
   "language": "python",
   "name": "conda-env-tensorflow-py"
  },
  "language_info": {
   "codemirror_mode": {
    "name": "ipython",
    "version": 2
   },
   "file_extension": ".py",
   "mimetype": "text/x-python",
   "name": "python",
   "nbconvert_exporter": "python",
   "pygments_lexer": "ipython2",
   "version": "2.7.12"
  }
 },
 "nbformat": 4,
 "nbformat_minor": 1
}
