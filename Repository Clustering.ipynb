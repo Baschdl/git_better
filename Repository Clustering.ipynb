{
 "cells": [
  {
   "cell_type": "code",
   "execution_count": 1,
   "metadata": {
    "collapsed": true
   },
   "outputs": [],
   "source": [
    "from process import *"
   ]
  },
  {
   "cell_type": "code",
   "execution_count": 2,
   "metadata": {
    "collapsed": false
   },
   "outputs": [
    {
     "name": "stderr",
     "output_type": "stream",
     "text": [
      "\r",
      "  0%|          | 0/2 [00:00<?, ?it/s]"
     ]
    },
    {
     "name": "stdout",
     "output_type": "stream",
     "text": [
      "Loading features for 2 repositories\n"
     ]
    },
    {
     "name": "stderr",
     "output_type": "stream",
     "text": [
      "100%|██████████| 2/2 [00:32<00:00, 16.67s/it]\n"
     ]
    }
   ],
   "source": [
    "data_frame = process_data()"
   ]
  },
  {
   "cell_type": "code",
   "execution_count": 3,
   "metadata": {
    "collapsed": false
   },
   "outputs": [
    {
     "data": {
      "text/html": [
       "<div>\n",
       "<table border=\"1\" class=\"dataframe\">\n",
       "  <thead>\n",
       "    <tr style=\"text-align: right;\">\n",
       "      <th></th>\n",
       "      <th>repository</th>\n",
       "      <th>label</th>\n",
       "      <th>owner</th>\n",
       "      <th>name</th>\n",
       "      <th>watchers</th>\n",
       "      <th>description</th>\n",
       "      <th>mentionableUsers</th>\n",
       "      <th>closed_pull_requests</th>\n",
       "      <th>closed_issues</th>\n",
       "      <th>open_issues</th>\n",
       "      <th>forks</th>\n",
       "      <th>merged_pull_requests</th>\n",
       "      <th>stargazers</th>\n",
       "      <th>open_pull_requests</th>\n",
       "      <th>projects</th>\n",
       "      <th>size</th>\n",
       "      <th>readme</th>\n",
       "      <th>LANGUAGE_JavaScript</th>\n",
       "      <th>LANGUAGE_Ruby</th>\n",
       "      <th>isOwnerHomepage</th>\n",
       "      <th>hasHomepage</th>\n",
       "      <th>commitsCount</th>\n",
       "      <th>branchesCount</th>\n",
       "      <th>tagsCount</th>\n",
       "      <th>releasesCount</th>\n",
       "      <th>LANGUAGE_Groovy</th>\n",
       "      <th>LANGUAGE_Shell</th>\n",
       "      <th>LANGUAGE_Java</th>\n",
       "      <th>LANGUAGE_FreeMarker</th>\n",
       "      <th>LANGUAGE_XSLT</th>\n",
       "      <th>LANGUAGE_SQLPL</th>\n",
       "      <th>LANGUAGE_Smarty</th>\n",
       "      <th>LANGUAGE_Batchfile</th>\n",
       "      <th>LANGUAGE_HTML</th>\n",
       "      <th>LANGUAGE_CSS</th>\n",
       "    </tr>\n",
       "  </thead>\n",
       "  <tbody>\n",
       "    <tr>\n",
       "      <th>0</th>\n",
       "      <td>briantemple/homeworkr</td>\n",
       "      <td>DEV</td>\n",
       "      <td>briantemple</td>\n",
       "      <td>homeworkr</td>\n",
       "      <td>1.0</td>\n",
       "      <td>A simple rails app to handle homework assignme...</td>\n",
       "      <td>1.0</td>\n",
       "      <td>0.0</td>\n",
       "      <td>0.0</td>\n",
       "      <td>0.0</td>\n",
       "      <td>2.0</td>\n",
       "      <td>0.0</td>\n",
       "      <td>6.0</td>\n",
       "      <td>0.0</td>\n",
       "      <td>0.0</td>\n",
       "      <td>226.0</td>\n",
       "      <td>HomeworkrHomeworkr is a simple rails app to h...</td>\n",
       "      <td>0.114283</td>\n",
       "      <td>0.885717</td>\n",
       "      <td>False</td>\n",
       "      <td>True</td>\n",
       "      <td>30.0</td>\n",
       "      <td>2.0</td>\n",
       "      <td>1.0</td>\n",
       "      <td>1.0</td>\n",
       "      <td>NaN</td>\n",
       "      <td>NaN</td>\n",
       "      <td>NaN</td>\n",
       "      <td>NaN</td>\n",
       "      <td>NaN</td>\n",
       "      <td>NaN</td>\n",
       "      <td>NaN</td>\n",
       "      <td>NaN</td>\n",
       "      <td>NaN</td>\n",
       "      <td>NaN</td>\n",
       "    </tr>\n",
       "    <tr>\n",
       "      <th>1</th>\n",
       "      <td>spring-projects/spring-boot</td>\n",
       "      <td>DEV</td>\n",
       "      <td>spring-projects</td>\n",
       "      <td>spring-boot</td>\n",
       "      <td>1129.0</td>\n",
       "      <td>Spring Boot</td>\n",
       "      <td>298.0</td>\n",
       "      <td>1344.0</td>\n",
       "      <td>5243.0</td>\n",
       "      <td>629.0</td>\n",
       "      <td>7751.0</td>\n",
       "      <td>29.0</td>\n",
       "      <td>8104.0</td>\n",
       "      <td>73.0</td>\n",
       "      <td>0.0</td>\n",
       "      <td>55554.0</td>\n",
       "      <td>Spring Boot image:https://buildspringio/plugi...</td>\n",
       "      <td>0.003724</td>\n",
       "      <td>0.000129</td>\n",
       "      <td>False</td>\n",
       "      <td>True</td>\n",
       "      <td>9241.0</td>\n",
       "      <td>9.0</td>\n",
       "      <td>65.0</td>\n",
       "      <td>1.0</td>\n",
       "      <td>0.004679</td>\n",
       "      <td>0.002114</td>\n",
       "      <td>0.970968</td>\n",
       "      <td>0.00021</td>\n",
       "      <td>0.003361</td>\n",
       "      <td>0.005938</td>\n",
       "      <td>0.000323</td>\n",
       "      <td>0.000685</td>\n",
       "      <td>0.007302</td>\n",
       "      <td>0.000568</td>\n",
       "    </tr>\n",
       "  </tbody>\n",
       "</table>\n",
       "</div>"
      ],
      "text/plain": [
       "                    repository label            owner         name  watchers  \\\n",
       "0        briantemple/homeworkr   DEV      briantemple    homeworkr       1.0   \n",
       "1  spring-projects/spring-boot   DEV  spring-projects  spring-boot    1129.0   \n",
       "\n",
       "                                         description  mentionableUsers  \\\n",
       "0  A simple rails app to handle homework assignme...               1.0   \n",
       "1                                        Spring Boot             298.0   \n",
       "\n",
       "   closed_pull_requests  closed_issues  open_issues   forks  \\\n",
       "0                   0.0            0.0          0.0     2.0   \n",
       "1                1344.0         5243.0        629.0  7751.0   \n",
       "\n",
       "   merged_pull_requests  stargazers  open_pull_requests  projects     size  \\\n",
       "0                   0.0         6.0                 0.0       0.0    226.0   \n",
       "1                  29.0      8104.0                73.0       0.0  55554.0   \n",
       "\n",
       "                                              readme  LANGUAGE_JavaScript  \\\n",
       "0   HomeworkrHomeworkr is a simple rails app to h...             0.114283   \n",
       "1   Spring Boot image:https://buildspringio/plugi...             0.003724   \n",
       "\n",
       "   LANGUAGE_Ruby isOwnerHomepage hasHomepage  commitsCount  branchesCount  \\\n",
       "0       0.885717           False        True          30.0            2.0   \n",
       "1       0.000129           False        True        9241.0            9.0   \n",
       "\n",
       "   tagsCount  releasesCount  LANGUAGE_Groovy  LANGUAGE_Shell  LANGUAGE_Java  \\\n",
       "0        1.0            1.0              NaN             NaN            NaN   \n",
       "1       65.0            1.0         0.004679        0.002114       0.970968   \n",
       "\n",
       "   LANGUAGE_FreeMarker  LANGUAGE_XSLT  LANGUAGE_SQLPL  LANGUAGE_Smarty  \\\n",
       "0                  NaN            NaN             NaN              NaN   \n",
       "1              0.00021       0.003361        0.005938         0.000323   \n",
       "\n",
       "   LANGUAGE_Batchfile  LANGUAGE_HTML  LANGUAGE_CSS  \n",
       "0                 NaN            NaN           NaN  \n",
       "1            0.000685       0.007302      0.000568  "
      ]
     },
     "execution_count": 3,
     "metadata": {},
     "output_type": "execute_result"
    }
   ],
   "source": [
    "data_frame"
   ]
  }
 ],
 "metadata": {
  "kernelspec": {
   "display_name": "Python 2",
   "language": "python",
   "name": "python2"
  },
  "language_info": {
   "codemirror_mode": {
    "name": "ipython",
    "version": 2
   },
   "file_extension": ".py",
   "mimetype": "text/x-python",
   "name": "python",
   "nbconvert_exporter": "python",
   "pygments_lexer": "ipython2",
   "version": "2.7.12"
  }
 },
 "nbformat": 4,
 "nbformat_minor": 1
}
